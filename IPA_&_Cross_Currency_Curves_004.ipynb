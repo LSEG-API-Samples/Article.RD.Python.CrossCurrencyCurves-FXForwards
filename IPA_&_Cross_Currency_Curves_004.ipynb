{
 "cells": [
  {
   "cell_type": "markdown",
   "metadata": {},
   "source": [
    "# IPA & Cross Currency Curves\n",
    "Instrument Pricing Analytics (IPA) is a powerful service provided by LSEG through the Refinitiv Data Platform REST API (more interestingly for us, the [Refinitiv Data Library for Python](https://developers.lseg.com/en/api-catalog/refinitiv-data-platform/refinitiv-data-library-for-python) (RD)) that provides calculators for financial operations ranging from [Bond Contracts](https://developers.lseg.com/en/api-catalog/refinitiv-data-platform/refinitiv-data-platform-apis/documentation#ipa-financial-contracts-bond-contracts) to [Exchange Traded Instrument (ETI) Volatility Surfaces](https://developers.lseg.com/en/api-catalog/refinitiv-data-platform/refinitiv-data-platform-apis/documentation#ipa-financial-contracts-bond-contracts) and everything inbetween. The functionality we're after in this article is [FX Cross Contracts](https://developers.lseg.com/en/api-catalog/refinitiv-data-platform/refinitiv-data-platform-apis/documentation#ipa-financial-contracts-fx-cross-contracts). Thanks to this service, we can recreate any calculation found in the FWDS app:\n",
    "\n",
    "![FWDS](../Docs/FWDS.PNG) \n",
    "\n",
    "before we go ahead however, it's imperative that we understand what exactly is shown in this app:"
   ]
  },
  {
   "cell_type": "markdown",
   "metadata": {},
   "source": [
    "\n",
    "## FWDS\n",
    "\n",
    "There's a lot of information on this FWDS app, some of which can be found on [YouTube](https://www.youtube.com/watch?v=UcDaoknUPUI); let's take it appart topic by topic:\n",
    "\n",
    "### Forwards\n",
    "\n",
    "Forwards are simple contracts at heart: it's a contract buying one currency for another in the future at an agreed rate.\n",
    "\n",
    "One buys a Forward Contract (also known as (a.k.a.): a Forward) to purchase something (*exempli gratia* (e.g.): a currency such as Great British Pounds (GBP)), at a certain price (e.g.: in Euros (EUR)), at a certain date in the future (e.g.: in 1 year's time). It is said that someone is \"long FX forward position\" when they're exposed to fluctuations in a specific currency through an FX forward contract, e.g.: I am in a long EUR/GBP FX forward position when I bought a forward contract tying me into the purchase of GBP (e.g.: 860GBP) in exchange for sale of EUR (e.g.: 1000EUR) at a rate prescribed by the forward contract ($F_{0,f/d}$, e.g.: 8.60GBP)."
   ]
  },
  {
   "cell_type": "markdown",
   "metadata": {},
   "source": [
    "#### Nomeclature: \"Base\" and \"Quote\" Currencies\n",
    "\n",
    "There are, unfortunutally, conventions in FX that complicate things, mainly related to the [\"Base Currency\" (a.k.a.: \"Transaction Currency\")](https://www.investopedia.com/terms/b/basecurrency.asp) and the [\"Quote Currency\"](https://www.investopedia.com/terms/q/quotecurrency.asp). Thankfully, there are a few rules that one may follow to make sense of it all:\n",
    "\n",
    "1. The Base Currency is always 1. E.g.: You can get 0.07538 CAD (Canadian Dolars) for each MXN (Mexical Pessos), here MXN is the Base Currency, and the CAD is the Quote Currency.\n",
    "2. The currency closest to the rate is the Quote Currency, and the currency furthest from the rate is the Base Currency. E.g.: \"CHFMAD 11.4930\" means that the MAD (Moroccan Dirham) is the Quote Currency, and the CHF (Swiss Franc) is Base Currency and you can get 11.4930 MAD per 1 CHF.\n",
    "3. When an FX rate is quoted without the rate (e.g.: in a calculator), the rate is always assumed to come afterwards. E.g.1: if \"ZARFJD\" is 0.1177, it represents \"ZARFJD 0.1177\"; here FJD (Fijian Dollar) is the Quote Currency, and ZAR (South African Rand) is the Base Currency; you can get 0.1177 FJD for every 1 ZAR. E.g.2: if \"NOKRON=\" is 0.4189, it represents \"NOKRON=0.4189\"; NOK (Norwegian Krone) is the Base Currency, RON (Romanian Leu) the Quote Currency.\n",
    "\n",
    "Note that you can get any syymbols in the midle of your numonic; e.g.1: \"KRW/PKR=2.0764\" means that KRW (South Korean Won) is the Base Currency, PKR (Pakistani Rupee) is the Quote Currency, and you can get 2.0764PKR for every 1KRW; e.g.2: for \"53.83 MGA/INR\", MGA (Malagasy Ariary) is the Quote Currency and INR (Indian Rupee) is the Base Currency, and you can get 53.83 MGA per 1 INR."
   ]
  },
  {
   "cell_type": "markdown",
   "metadata": {},
   "source": [
    "Let's take a concrete example:\n",
    "\n",
    "#### \"Straight\" Forwards vs Forwards\n",
    "\n",
    "1st, let's look at \"Straight\" Forwards, i.e.: Forwards for two currencies, with none 'in the middle'; the 'middle currency' usually is the USD, and we'll look at them later. You can find the meaning behind any one item in the FWDS add by hovering over it, so I will not explain every item here. Rather, I will use the labels to refer to the buttons and values:\n",
    "\n",
    "![labeledFWDS](../Docs/labeledFWDS.png)\n",
    "\n",
    "The FWDS (FX Forward Calculator) calculator combines 3 legacy Refinitiv apps named (i) Swap Points & Outrights, (ii) Deposite Analysis, and (iii) NDFX.\n",
    "In the screenshot above, we\n",
    "\n",
    "(I) picked EURGBP in $\\textcolor{red}{a}$ (for the app to compute values for the Euro/Great British Pound currency pair) such that EUR is the Base Currency, and GBP is the Quote Currency;\n",
    "\n",
    "(II) made sure we were calculating values relating to forward contracts for EUR & GBP with $\\textcolor{red}{b}$ &  $\\textcolor{red}{c}$, as opposed to 'Rates' (i.e.: Deposit Rates) (more on this later),\n",
    "\n",
    "(III) picked a Trade Date in $\\textcolor{red}{d}$ (a date in the past can be chosen to simulate past trades) and the calculator automatically picked a [Value Date](https://www.investopedia.com/terms/v/valuedate.asp#:~:text=Value%20Date%20in%20Trading&text=Due%20to%20differences%20in%20time,agree%20to%20the%20exchange%20rate.) in $\\textcolor{red}{e}$ (the date that the the currencies are handed over from buyer to seller; due to differences in time zones and bank processing delays, the value date for spot trades in foreign currencies is usually set two days after a transaction is agreed on, often depicted as \"T+2\"),\n",
    "\n",
    "(IV) can glanced at the Bid (left) and Ask (right) [Spot](https://www.investopedia.com/terms/forex/f/forex-spot-rate.asp) rates for the FX pair we have in mind with $\\textcolor{red}{f}$. Here the Bid Spot Rate is 0.8633, the Ask Spot Rate is 0.8637;\n",
    "\n",
    "(V) glanced at the market data that calculations were made with via $\\textcolor{red}{g}$\n",
    "\n",
    "(VI) picked a reference rate of EUR with $\\textcolor{red}{g}$, so that we only see the straight pair (only EUR and GBP with no intermediaries; an intermediary could be USD, for e.g., whereby someone would exchange EUR for USD and USD for GBP if there was noone selling GBP for EUR, but there was someone ready to sell USD for EUR, and someone else to sell GBP for USD).\n",
    "\n",
    "Now that we've done this, we can see the calculated results under \"Standard Periods\" (to the left of $\\textcolor{red}{t}$). What are we looking at exactly?\n",
    "\n",
    "(V) In column $\\textcolor{red}{u}$, we can see the Forward's period we're after. the last row shows the \"2Y\" period, i.e.: data about Farwards with a 2 year maturity. Explicit dates related to this maturity can be seen in column $\\textcolor{red}{w}$; that last row shows data for Forwards written on Oct 16th 2023 (the day I took the screenshot) and ending 2 years later (Oct 16th 2025), that's to say 731 days later, as shown in column column $\\textcolor{red}{x}$. If the maturity date falls on a weekend, a yellow $\\textcolor{yellow}{W}$ will show up in column $\\textcolor{blue}{v}$; if it falls on a local holiday, it will be a red $\\textcolor{red}{H}$; the next working day becomes the defacto maturity date.\n",
    "\n",
    "Note that:\n",
    "\n",
    "ON = Over Night. Data on this row reffer to FX Forward contracts expiring 1 business day later; 13 Oct 2023 in this instance. Keep in mind that these contracts are settled T+2.\n",
    "\n",
    "TN = Tomorrow Night. Data on this row reffer to FX Forward contracts starting in 1 business day and ending in 2. In our example, that translates to 3 days because of the weekend. Keep in mind that these contracts are settled T+2.\n",
    "\n",
    "SN = Spot Next.\n",
    "\n",
    "SW = Spot Week."
   ]
  },
  {
   "cell_type": "markdown",
   "metadata": {},
   "source": [
    "(VI) Columns $\\textcolor{red}{y}$ and $\\textcolor{red}{z}$ are... complicated.\n",
    "\n",
    "\"Outrights\" are the explicit EUR/GBP rates, i.e.: at a 2Y period FX Forward contract, one would get 0.892095 GBP for 1 EUR. Outrights for contracts from Spot Next (SN) (3rd row from the top in $\\textcolor{red}{u}$) onwards are calculated differently to the ones bellow (TN and ON).\n"
   ]
  },
  {
   "cell_type": "markdown",
   "metadata": {},
   "source": [
    "\n",
    "##### Spot Next Rates +\n",
    "\n",
    "\"Swap Points\", in the left column of $\\textcolor{red}{z}$, for contracts from Spot Next (SN) (3rd row from the top in $\\textcolor{red}{u}$) onwards are the incremental points above the Spot Rate (that can be seen in $\\textcolor{red}{f}$); these points are quoted in 1 / 10 000th, i.e.: 283.9500 Swap Points = 0.028395. Keeping with the 2Y period FX Forward contract example:\n",
    "\n",
    "${EURGBP}_{Ask, Outright, 2Y, \"2023-10-12\"}$ = ${EURGBP}_{Ask, Spot, \"2023-10-12\"}$ + $\\frac{{EURGBP}_{Ask, Swap, 2Year, \"2023-10-12\"}}{10 000}$\n",
    "\n",
    "where:\n",
    "\n",
    "${EURGBP}_{Ask, Outright, 2Y, \"2023-10-12\"}$ = EUR/GBP Ask Outright rate for a 2 Year FX Forward on 12 Oct 2023 (seen in $\\textcolor{blue}{z}$)\n",
    "\n",
    "${EURGBP}_{Ask, Spot, \"2023-10-12\"}$ = EUR/GBP Ask Spot rate on 12 Oct 2023 (seen in $\\textcolor{red}{f}$)\n",
    "\n",
    "${EURGBP}_{Ask, Swap, 2Year, \"2023-10-12}$ = EUR/GBP Ask Swap Points for a 2 Year FX Forward on 12 Oct 2023 (seen in $\\textcolor{blue}{z}$)\n"
   ]
  },
  {
   "cell_type": "markdown",
   "metadata": {},
   "source": [
    "\n",
    "##### Tomorrow Night rates\n",
    "\n",
    "TN rates, in $\\textcolor{blue}{z}$, are calculated differnetly to the above. To make sense of them, I created the excel sheet snapshot below.\n",
    "\n",
    "${EURGBP}_{Ask, Outright, TN, \"2023-10-12\"} = {EURGBP}_{Ask, Spot, \"2023-10-12\"} - \\frac{{EURGBP}_{Bid, Swap, TN, \"2023-10-12\"}}{10 000}$\n",
    "\n",
    "${EURGBP}_{Bid, Outright, TN, \"2023-10-12\"} = {EURGBP}_{Bid, Spot, \"2023-10-12\"} - \\frac{{EURGBP}_{Ask, Swap, TN, \"2023-10-12\"}}{10 000}$\n"
   ]
  },
  {
   "cell_type": "markdown",
   "metadata": {},
   "source": [
    "\n",
    "##### Overnight (ON) rates\n",
    "\n",
    "ON rates, in $\\textcolor{blue}{z}$, are calculated differnetly to the above. To make sense of them, I created the excel sheet snapshot below, the SN and ON rates are in a clearer background (grey).\n",
    "\n",
    "\n",
    "$$ \\begin{array}{ll}\n",
    "{EURGBP}_{Ask, Outright, SN, \"2023-10-12\"} &=\n",
    "    {EURGBP}_{Ask, Outright, TN, \"2023-10-12\"} - \\frac{{EURGBP}_{Bid, Swap, ON, \"2023-10-12\"}}{10 000} \\\\\n",
    "&= {EURGBP}_{Ask, Spot, \"2023-10-12\"} - \\frac{{EURGBP}_{Bid, Swap, TN, \"2023-10-12\"}}{10 000} - \\frac{{EURGBP}_{Bid, Swap, ON, \"2023-10-12\"}}{10 000} \\\\\n",
    "&= {EURGBP}_{Ask, Spot, \"2023-10-12\"} - \\frac{{EURGBP}_{Bid, Swap, TN, \"2023-10-12\"} + {EURGBP}_{Bid, Swap, ON, \"2023-10-12\"}}{10 000}\n",
    "\\end{array}$$\n",
    "\n",
    "and\n",
    "\n",
    "$$ \\begin{array}{ll}\n",
    "{EURGBP}_{Bid, Outright, SN, \"2023-10-12\"} &=\n",
    "    {EURGBP}_{Bid, Outright, TN, \"2023-10-12\"} - \\frac{{EURGBP}_{Ask, Swap, ON, \"2023-10-12\"}}{10 000} \\\\\n",
    "&= {EURGBP}_{Bid, Spot, \"2023-10-12\"} - \\frac{{EURGBP}_{Ask, Swap, TN, \"2023-10-12\"}}{10 000} - \\frac{{EURGBP}_{Ask, Swap, ON, \"2023-10-12\"}}{10 000} \\\\\n",
    "&= {EURGBP}_{Bid, Spot, \"2023-10-12\"} - \\frac{{EURGBP}_{Ask, Swap, TN, \"2023-10-12\"} + {EURGBP}_{Ask, Swap, ON, \"2023-10-12\"}}{10 000}\n",
    "\\end{array}$$"
   ]
  },
  {
   "cell_type": "markdown",
   "metadata": {},
   "source": [
    "\n",
    "![labeledFWDSexplained](../Docs/labeledFWDSexplained.png)"
   ]
  },
  {
   "cell_type": "markdown",
   "metadata": {},
   "source": [
    "### How is this done in Python?\n",
    "\n",
    "Let's stick to this simple example above for now and see how it can be coded in Python with LSEG's IPA (Instrument Pricing Analytics) (a.k.a.: Quantitative Analytics) service.\n",
    "\n",
    "We are now going to look into [using PEP 3107](https://stackoverflow.com/questions/2489669/how-do-python-functions-handle-the-types-of-parameters-that-you-pass-in) (and [PEP 484](https://stackoverflow.com/questions/2489669/how-do-python-functions-handle-the-types-of-parameters-that-you-pass-in#:~:text=the%20introduction%20of-,PEP%20484,-which%20introduces%20a)) (and some [decorators](https://realpython.com/primer-on-python-decorators)). In line with PEP, I will also now use [PEP8](https://peps.python.org/pep-0008/) naming conventions."
   ]
  },
  {
   "cell_type": "code",
   "execution_count": 1,
   "metadata": {},
   "outputs": [],
   "source": [
    "# pip install --trusted-host files.pythonhosted.org nb_mypy # This line can be used to install `nb_mypy`."
   ]
  },
  {
   "cell_type": "code",
   "execution_count": 2,
   "metadata": {},
   "outputs": [
    {
     "name": "stderr",
     "output_type": "stream",
     "text": [
      "Version 1.0.5\n",
      "Version 1.0.5\n"
     ]
    }
   ],
   "source": [
    "import nb_mypy  # !pip3 install nb_mypy --trusted-host pypi.org # https://pypi.org/project/nb-mypy/ # https://gitlab.tue.nl/jupyter-projects/nb_mypy/-/blob/master/Nb_Mypy.ipynb\n",
    "%load_ext nb_mypy\n",
    "%reload_ext nb_mypy\n",
    "%nb_mypy On\n",
    "%nb_mypy DebugOff"
   ]
  },
  {
   "cell_type": "code",
   "execution_count": 3,
   "metadata": {},
   "outputs": [],
   "source": [
    "import refinitiv.data as rd  # This is LSEG's Data and Analytics' API wrapper, called the Refinitiv Data Library for Python. You can update this library with the comand `!pip install refinitiv-data --upgrade`\n",
    "from refinitiv.data.delivery import endpoint_request\n",
    "from refinitiv.data.content import search  # We will use this Python Class in `rd` to fid the instrument we are after, closest to At The Money.\n",
    "import refinitiv.data.content.ipa.financial_contracts as rdf  # We're going to need this to use the content layer of the RD library and the calculators of greeks and Impl Volat in Instrument Pricing Analytics (IPA) and Exchange Traded Instruments (ETI)\n",
    "from refinitiv.data.content.ipa.financial_contracts import cross  # We're going to need thtis to use the content layer of the RD library and the calculations\n",
    "\n",
    "import numpy as np  # We need `numpy` for mathematical and array manipilations.\n",
    "import pandas as pd  # We need `pandas` for datafame and array manipilations.\n",
    "import calendar  # We use `calendar` to identify holidays and maturity dates of intruments of interest.\n",
    "import pytz  # We use `pytz` to manipulate time values aiding `calendar` library. to import its types, you might need to run `!python3 -m pip install types-pytz`. To get the Type Hints for this library, try `pip install types-pytz`.\n",
    "import pandas_market_calendars as mcal  # Used to identify holidays. See `https://github.com/rsheftel/pandas_market_calendars/blob/master/examples/usage.ipynb` for info on this market calendar library\n",
    "from datetime import datetime, date, timedelta, timezone  # We use these to manipulate time values\n",
    "from dateutil.relativedelta import relativedelta  # We use `relativedelta` to manipulate time values aiding `calendar` library. May also need `pip install types-python-dateutil`.\n",
    "import requests  # We'll need this to send requests to servers vie a the delivery layer - more on that below. Might also need `pip install types-requests`.\n",
    "\n",
    "# `plotly` is a library used to render interactive graphs:\n",
    "import plotly.graph_objects as go\n",
    "import plotly.express as px  # This is just to see the implied vol graph when that field is available\n",
    "import matplotlib.pyplot as plt  # We use `matplotlib` to just in case users do not have an environment suited to `plotly`.\n",
    "from IPython.display import clear_output, display  # We use `clear_output` for users who wish to loop graph production on a regular basis. We'll use this to `display` data (e.g.: pandas data-frames).\n",
    "from plotly import subplots\n",
    "import plotly\n",
    "\n",
    "from typing import Generator, Any\n",
    "from types import ModuleType  # FrameType, TracebackType"
   ]
  },
  {
   "cell_type": "code",
   "execution_count": 4,
   "metadata": {},
   "outputs": [
    {
     "name": "stderr",
     "output_type": "stream",
     "text": [
      "FutureWarning: \n",
      "You open a platform session using the default value of the signon_control parameter (signon_control=True).\n",
      "In future versions of the library (2.x), this default will be changed to False.\n",
      "If you want to keep the same behavior as today, you will need to set the signon_control parameter to True either in the library configuration file\n",
      "({'sessions':{'platform':{'your_session_name':{'signon_control':true}}}}) or in your code where you create the Platform Session.\n",
      "These alternative options are already supported in the current version of the library.\n"
     ]
    },
    {
     "data": {
      "text/plain": [
       "<refinitiv.data.session.Definition object at 0x287fd964310 {name='rdph'}>"
      ]
     },
     "execution_count": 4,
     "metadata": {},
     "output_type": "execute_result"
    }
   ],
   "source": [
    "rd.open_session(\n",
    "    name=\"platform.rdph\",  # name=\"desktop.workspace4\", \"platform.rdph\"\n",
    "    config_name=\"C:/Example.DataLibrary.Python-main/Configuration/refinitiv-data.config.json\")"
   ]
  },
  {
   "cell_type": "code",
   "execution_count": 5,
   "metadata": {},
   "outputs": [
    {
     "name": "stdout",
     "output_type": "stream",
     "text": [
      "refinitiv.data used in this code is version 1.4.0\n",
      "numpy used in this code is version 1.23.1\n",
      "pandas used in this code is version 1.3.5\n",
      "pandas_market_calendarspytz used in this code is version 4.1.4\n",
      "requests used in this code is version 2022.1\n",
      "plotly used in this code is version 2.28.1\n"
     ]
    }
   ],
   "source": [
    "i_str: str\n",
    "i_ModType: ModuleType\n",
    "\n",
    "for i_str, i_ModType in zip(\n",
    "    ['refinitiv.data', 'numpy', 'pandas', 'pandas_market_calendars' 'pytz', 'requests', 'plotly'],\n",
    "    [rd, np, pd, mcal, pytz, requests, plotly]):\n",
    "    print(f\"{i_str} used in this code is version {i_ModType.__version__}\")"
   ]
  },
  {
   "cell_type": "markdown",
   "metadata": {},
   "source": [
    "#### Layers\n",
    "There are 3 layers in the Refinitiv Data Library: [Delivery](https://github.com/LSEG-API-Samples/Example.DataLibrary.Python/tree/main/Examples/3-Delivery), [Content](https://github.com/LSEG-API-Samples/Example.DataLibrary.Python/tree/main/Examples/2-Content) and [Access](https://github.com/LSEG-API-Samples/Example.DataLibrary.Python/tree/main/Examples/1-Access). Below, I will give examples for the Delivery and Content layers\n",
    "#### Delivery Layer"
   ]
  },
  {
   "cell_type": "code",
   "execution_count": 6,
   "metadata": {},
   "outputs": [],
   "source": [
    "crvs_req_dict: dict[str, str | dict[str, list[dict[str, dict[str, list[str] | str]]]]] = {\n",
    "  \"endpoint url\":\"https://api.refinitiv.com/data/quantitative-analytics-curves-and-surfaces/v1/curves/cross-currency-curves/curves\",\n",
    "  \"request body\": {\"universe\": [\n",
    "    {\"curveDefinition\": {\n",
    "        \"curveTenors\": [\n",
    "        #   \"ON\", \"TN\", \"SN\", \"SW\", \"2W\", \"3W\",\n",
    "        #   \"1M\", \"2M\", \"3M\", \"4M\", \"5M\", \"6M\", \"7M\", \"8M\", \"9M\", \"10M\", \"11M\",\n",
    "          \"1Y\", \"15M\", \"18M\", \"21M\", \"2Y\"],\n",
    "        # \"baseIndexName\": \"ESTR\",\n",
    "        \"baseCurrency\": \"EUR\",\n",
    "        # \"quotedIndexName\": \"SOFR\",\n",
    "        \"quotedCurrency\": \"GBP\"},\n",
    "      # \"curveParameters\": {\n",
    "      #     \"valuationDate\": \"2023-10-06\"}\n",
    "          }]}}\n",
    "\n",
    "univ_diff_mat_crvs: rd.delivery._data._endpoint_definition.Definition = rd.delivery.endpoint_request.Definition(\n",
    "    method=rd.delivery.endpoint_request.RequestMethod.POST,\n",
    "    url=crvs_req_dict['endpoint url'],\n",
    "    body_parameters=crvs_req_dict['request body'])\n",
    "data_diff_mat_crvs: rd.delivery._data._response.Response = univ_diff_mat_crvs.get_data()\n",
    "df_diff_mat_crvs: pd.DataFrame = pd.json_normalize(\n",
    "    data_diff_mat_crvs.data.raw['data'][0]['curve']['curvePoints'])"
   ]
  },
  {
   "cell_type": "code",
   "execution_count": 7,
   "metadata": {},
   "outputs": [
    {
     "data": {
      "text/plain": [
       "{'valuationDate': '2023-11-03',\n",
       " 'interpolationMode': 'Linear',\n",
       " 'extrapolationMode': 'Constant',\n",
       " 'turnAdjustments': {},\n",
       " 'ignorePivotCurrencyHolidays': False,\n",
       " 'useDelayedDataIfDenied': False,\n",
       " 'ignoreInvalidInstrument': True,\n",
       " 'marketDataLookBack': {'value': 96, 'unit': 'Hour'}}"
      ]
     },
     "execution_count": 7,
     "metadata": {},
     "output_type": "execute_result"
    }
   ],
   "source": [
    "data_diff_mat_crvs.data.raw['data'][0]['curveParameters']"
   ]
  },
  {
   "cell_type": "code",
   "execution_count": null,
   "metadata": {},
   "outputs": [
    {
     "data": {
      "text/plain": [
       "{'baseCurrency': 'EUR',\n",
       " 'quotedCurrency': 'GBP',\n",
       " 'curveTenors': ['1Y', '15M', '18M', '21M', '2Y'],\n",
       " 'crossCurrencyDefinitions': [{'baseCurrency': 'EUR',\n",
       "   'baseIndexName': 'EURIBOR',\n",
       "   'name': 'EUR GBP FxForward',\n",
       "   'quotedCurrency': 'GBP',\n",
       "   'quotedIndexName': 'LIBOR',\n",
       "   'source': 'Refinitiv',\n",
       "   'isNonDeliverable': False,\n",
       "   'mainConstituentAssetClass': 'FxForward',\n",
       "   'riskType': 'CrossCurrency',\n",
       "   'id': 'c2aecf88-3b26-405e-a7f0-30fa2c2918b7',\n",
       "   'ignoreExistingDefinition': False}]}"
      ]
     },
     "metadata": {},
     "output_type": "display_data"
    }
   ],
   "source": [
    "data_diff_mat_crvs.data.raw['data'][0]['curveDefinition']"
   ]
  },
  {
   "cell_type": "code",
   "execution_count": 8,
   "metadata": {},
   "outputs": [
    {
     "data": {
      "text/html": [
       "<div>\n",
       "<style scoped>\n",
       "    .dataframe tbody tr th:only-of-type {\n",
       "        vertical-align: middle;\n",
       "    }\n",
       "\n",
       "    .dataframe tbody tr th {\n",
       "        vertical-align: top;\n",
       "    }\n",
       "\n",
       "    .dataframe thead th {\n",
       "        text-align: right;\n",
       "    }\n",
       "</style>\n",
       "<table border=\"1\" class=\"dataframe\">\n",
       "  <thead>\n",
       "    <tr style=\"text-align: right;\">\n",
       "      <th></th>\n",
       "      <th>tenor</th>\n",
       "      <th>startDate</th>\n",
       "      <th>endDate</th>\n",
       "      <th>instruments</th>\n",
       "      <th>swapPoint.bid</th>\n",
       "      <th>swapPoint.ask</th>\n",
       "      <th>swapPoint.mid</th>\n",
       "      <th>outright.bid</th>\n",
       "      <th>outright.ask</th>\n",
       "      <th>outright.mid</th>\n",
       "    </tr>\n",
       "  </thead>\n",
       "  <tbody>\n",
       "    <tr>\n",
       "      <th>0</th>\n",
       "      <td>1Y</td>\n",
       "      <td>2023-11-07</td>\n",
       "      <td>2024-11-07</td>\n",
       "      <td>[{'instrumentCode': 'EURGBP1Y='}]</td>\n",
       "      <td>133.14</td>\n",
       "      <td>140.40</td>\n",
       "      <td>136.770</td>\n",
       "      <td>0.885014</td>\n",
       "      <td>0.885940</td>\n",
       "      <td>0.885477</td>\n",
       "    </tr>\n",
       "    <tr>\n",
       "      <th>1</th>\n",
       "      <td>15M</td>\n",
       "      <td>2023-11-07</td>\n",
       "      <td>2025-02-07</td>\n",
       "      <td>[{'instrumentCode': 'EURGBP15M='}]</td>\n",
       "      <td>176.11</td>\n",
       "      <td>178.98</td>\n",
       "      <td>177.545</td>\n",
       "      <td>0.889311</td>\n",
       "      <td>0.889798</td>\n",
       "      <td>0.889555</td>\n",
       "    </tr>\n",
       "    <tr>\n",
       "      <th>2</th>\n",
       "      <td>18M</td>\n",
       "      <td>2023-11-07</td>\n",
       "      <td>2025-05-07</td>\n",
       "      <td>[{'instrumentCode': 'EURGBP18M='}]</td>\n",
       "      <td>212.20</td>\n",
       "      <td>215.20</td>\n",
       "      <td>213.700</td>\n",
       "      <td>0.892920</td>\n",
       "      <td>0.893420</td>\n",
       "      <td>0.893170</td>\n",
       "    </tr>\n",
       "    <tr>\n",
       "      <th>3</th>\n",
       "      <td>21M</td>\n",
       "      <td>2023-11-07</td>\n",
       "      <td>2025-08-07</td>\n",
       "      <td>[{'instrumentCode': 'EURGBP21M='}]</td>\n",
       "      <td>249.87</td>\n",
       "      <td>254.48</td>\n",
       "      <td>252.175</td>\n",
       "      <td>0.896687</td>\n",
       "      <td>0.897348</td>\n",
       "      <td>0.897018</td>\n",
       "    </tr>\n",
       "    <tr>\n",
       "      <th>4</th>\n",
       "      <td>2Y</td>\n",
       "      <td>2023-11-07</td>\n",
       "      <td>2025-11-07</td>\n",
       "      <td>[{'instrumentCode': 'EURGBP2Y='}]</td>\n",
       "      <td>285.75</td>\n",
       "      <td>291.15</td>\n",
       "      <td>288.450</td>\n",
       "      <td>0.900275</td>\n",
       "      <td>0.901015</td>\n",
       "      <td>0.900645</td>\n",
       "    </tr>\n",
       "  </tbody>\n",
       "</table>\n",
       "</div>"
      ],
      "text/plain": [
       "  tenor   startDate     endDate                         instruments  \\\n",
       "0    1Y  2023-11-07  2024-11-07   [{'instrumentCode': 'EURGBP1Y='}]   \n",
       "1   15M  2023-11-07  2025-02-07  [{'instrumentCode': 'EURGBP15M='}]   \n",
       "2   18M  2023-11-07  2025-05-07  [{'instrumentCode': 'EURGBP18M='}]   \n",
       "3   21M  2023-11-07  2025-08-07  [{'instrumentCode': 'EURGBP21M='}]   \n",
       "4    2Y  2023-11-07  2025-11-07   [{'instrumentCode': 'EURGBP2Y='}]   \n",
       "\n",
       "   swapPoint.bid  swapPoint.ask  swapPoint.mid  outright.bid  outright.ask  \\\n",
       "0         133.14         140.40        136.770      0.885014      0.885940   \n",
       "1         176.11         178.98        177.545      0.889311      0.889798   \n",
       "2         212.20         215.20        213.700      0.892920      0.893420   \n",
       "3         249.87         254.48        252.175      0.896687      0.897348   \n",
       "4         285.75         291.15        288.450      0.900275      0.901015   \n",
       "\n",
       "   outright.mid  \n",
       "0      0.885477  \n",
       "1      0.889555  \n",
       "2      0.893170  \n",
       "3      0.897018  \n",
       "4      0.900645  "
      ]
     },
     "execution_count": 8,
     "metadata": {},
     "output_type": "execute_result"
    }
   ],
   "source": [
    "df_diff_mat_crvs"
   ]
  },
  {
   "cell_type": "markdown",
   "metadata": {},
   "source": [
    "##### Content Layer"
   ]
  },
  {
   "cell_type": "code",
   "execution_count": null,
   "metadata": {},
   "outputs": [],
   "source": [
    "    instrument_tag=\"EURGBP\",\n",
    "    fx_cross_type=cross.FxCrossType.FX_FORWARD,\n",
    "    fx_cross_code=\"EURGBP\",\n",
    "    fields=[\"InstrumentTag\", \"FxSpot_BidMidAsk\", \"ErrorCode\", \"Ccy1SpotDate\", \"Ccy2SpotDate\"],\n",
    "    extended_params = {\n",
    "        \"marketData\": {\n",
    "            \"fxSpots\": [\n",
    "                {\"spotDefinition\": {\n",
    "                        \"fxCrossCode\": \"AUDUSD\", \n",
    "                        \"Source\": \"Composite\"}}]}}"
   ]
  },
  {
   "cell_type": "markdown",
   "metadata": {},
   "source": [
    "Reffering back to the labled EURGBP=R FWDS screenshot above, you can recreate is using the Python API"
   ]
  },
  {
   "cell_type": "code",
   "execution_count": 10,
   "metadata": {},
   "outputs": [],
   "source": [
    "# rd.close_session()"
   ]
  },
  {
   "cell_type": "code",
   "execution_count": 11,
   "metadata": {},
   "outputs": [],
   "source": []
  }
 ],
 "metadata": {
  "kernelspec": {
   "display_name": "Python 3",
   "language": "python",
   "name": "python3"
  },
  "language_info": {
   "codemirror_mode": {
    "name": "ipython",
    "version": 3
   },
   "file_extension": ".py",
   "mimetype": "text/x-python",
   "name": "python",
   "nbconvert_exporter": "python",
   "pygments_lexer": "ipython3",
   "version": "3.10.5"
  }
 },
 "nbformat": 4,
 "nbformat_minor": 2
}
