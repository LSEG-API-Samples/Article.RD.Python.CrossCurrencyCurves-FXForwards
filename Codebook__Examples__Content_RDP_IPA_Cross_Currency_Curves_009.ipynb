{
 "cells": [
  {
   "cell_type": "markdown",
   "metadata": {},
   "source": [
    "----\n",
    "<img src=\"../../files/lseg.svg\" class=\"lseg-examples-logo\" width=\"20%\" style=\"vertical-align: top;\">\n",
    "\n",
    "# Data Library for Python\n",
    "\n",
    "----"
   ]
  },
  {
   "cell_type": "markdown",
   "metadata": {},
   "source": [
    "## Delivery Layer\n",
    "There are 3 layers in the Refinitiv Data Library: [Delivery](https://github.com/LSEG-API-Samples/Example.DataLibrary.Python/tree/main/Examples/3-Delivery), [Content](https://github.com/LSEG-API-Samples/Example.DataLibrary.Python/tree/main/Examples/2-Content) and [Access](https://github.com/LSEG-API-Samples/Example.DataLibrary.Python/tree/main/Examples/1-Access). This notebook demonstrates how to use the Definition object of the Delivery layer in conjunction with with the functions `get_data` and `get_history` and the Instrument Pricing Analytics (IPA) product.\n",
    "\n",
    "The Delivery layer provides a simplified data request interface for REST APIs, designed for FinCoders.\n",
    "\n",
    "#### IPA\n",
    "\n",
    "IPA (otherwise known as the Quantitative Analytics (QA) API Family) is a powerful product provided by LSEG through its Data Platform REST APIs and [Data Libraries](https://developers.lseg.com/en/api-catalog?x1=w_products&q1=devportal%3Aproducts%2Frefinitiv-data-libraries) that provides calculators for financial operations including [FX Cross Contracts](https://developers.lseg.com/en/api-catalog/refinitiv-data-platform/refinitiv-data-platform-apis/documentation#ipa-financial-contracts-fx-cross-contracts). Thanks to this service, we can recreate any calculation found in, for example, the FWDS app.\n",
    "\n",
    "#### Learn more\n",
    "\n",
    "To learn more about the Refinitiv Data Library for Python please join the Refinitiv Developer Community. By [registering](https://developers.refinitiv.com/iam/register) and [logging](https://developers.refinitiv.com/content/devportal/en_us/initCookie.html) into the Refinitiv Developer Community portal you will have free access to a number of learning materials like \n",
    " [Quick Start guides](https://developers.refinitiv.com/en/api-catalog/refinitiv-data-platform/refinitiv-data-library-for-python/quick-start), \n",
    " [Tutorials](https://developers.refinitiv.com/en/api-catalog/refinitiv-data-platform/refinitiv-data-library-for-python/tutorials), \n",
    " [Documentation](https://developers.refinitiv.com/en/api-catalog/refinitiv-data-platform/refinitiv-data-library-for-python/documentation)\n",
    " and much more.\n",
    "\n",
    " You may also visit the [API Playground](https://apidocs.refinitiv.com/Apps/ApiDocs) to get more examples, find  end points and download Swagger files\n",
    "\n",
    "#### Getting Help and Support\n",
    "\n",
    "If you have any questions regarding using the API, please post them on \n",
    "the [Refinitiv Data Q&A Forum](https://community.developers.refinitiv.com/spaces/321/index.html). \n",
    "The Refinitiv Developer Community will be happy to help. \n",
    "\n",
    "----\n",
    "\n",
    "## Some Imports to start with"
   ]
  },
  {
   "cell_type": "code",
   "execution_count": 1,
   "metadata": {},
   "outputs": [],
   "source": [
    "import refinitiv.data as rd  # This is LSEG's Data and Analytics' API wrapper, called the Refinitiv Data Library for Python. You can update this library with the comand `!pip install refinitiv-data --upgrade`\n",
    "\n",
    "import pandas as pd  # We need `pandas` for datafame and array manipilations.\n",
    "import datetime # We use these to manipulate time values\n",
    "\n",
    "%matplotlib inline\n",
    "import plotly.graph_objects as go # `plotly` is a library used to render interactive graphs\n",
    "import IPython\n",
    "import ipywidgets as widgets\n",
    "from refinitiv_widgets import Select, MultiSelect, Button, TextFieldAutosuggest\n",
    "import copy"
   ]
  },
  {
   "cell_type": "markdown",
   "metadata": {},
   "source": [
    "## Open the data session\n",
    "\n",
    "The open_session() function creates and open sessions based on the information contained in the refinitiv-data.config.json configuration file. Please edit this file to set the session type and other parameters required for the session you want to open."
   ]
  },
  {
   "cell_type": "code",
   "execution_count": 2,
   "metadata": {},
   "outputs": [
    {
     "data": {
      "text/plain": [
       "<refinitiv.data.session.Definition object at 0x7f53612bacd0 {name='codebook'}>"
      ]
     },
     "execution_count": 2,
     "metadata": {},
     "output_type": "execute_result"
    }
   ],
   "source": [
    "# rd.open_session(\n",
    "#     name=\"platform.rdpRDP\",  # name=\"desktop.workspace4\", \"platform.rdph\"\n",
    "#     config_name=\"C:/Example.DataLibrary.Python-main/Configuration/refinitiv-data.config.json\")\n",
    "rd.open_session()"
   ]
  },
  {
   "cell_type": "markdown",
   "metadata": {},
   "source": [
    "### Endpoints\n",
    "You can reach the IPA API Family via the Quantitative Analytics set of endpoints (they all start with \"https://api.refinitiv.com/data/quantitative-analytics\")."
   ]
  },
  {
   "cell_type": "markdown",
   "metadata": {},
   "source": [
    "#### [IPA Curves Service: Construction of the FX Forward Curve (Forward Curves Endpoint)](https://developers.lseg.com/en/api-catalog/refinitiv-data-platform/refinitiv-data-platform-apis/documentation#ipa-curves-service-construction-of-the-fx-forward-curve)\n",
    "\n",
    "The \"Construction of the FX Forward Curve\" set of functionalities is linked with the \"https://api.refinitiv.com/data/quantitative-analytics-curves-and-surfaces/v1/curves/forward-curves\" Endpoint. It allows us to collect data with 'absolute' (e.g.: \"2023-11-09\") or 'relative' (e.g.: ) `startTenor` dates; let's have a look at an example with an 'absolute' `startTenor` date."
   ]
  },
  {
   "cell_type": "code",
   "execution_count": 3,
   "metadata": {},
   "outputs": [],
   "source": [
    "frwd_crv_deliv_req = rd.delivery.endpoint_request.Definition(\n",
    "    method=rd.delivery.endpoint_request.RequestMethod.POST,\n",
    "    url=\"https://api.refinitiv.com/data/quantitative-analytics-curves-and-surfaces/v1/curves/cross-currency-curves/forward-curves\",\n",
    "    body_parameters={\n",
    "      \"universe\": [\n",
    "        {\n",
    "          \"curveDefinition\": {\n",
    "          \"baseCurrency\": \"EUR\",\n",
    "          \"quotedCurrency\": \"GBP\"\n",
    "          },\n",
    "        \"forwardDefinitions\": [\n",
    "          {\n",
    "            \"startTenor\": \"2023-11-09\",  # \"0D\"\n",
    "          }\n",
    "        ]\n",
    "        }\n",
    "      ]\n",
    "    }\n",
    "  ).get_data()\n",
    "if frwd_crv_deliv_req.is_success:\n",
    "    frwd_crv_deliv_df = pd.json_normalize(\n",
    "        frwd_crv_deliv_req.data.raw['data'][0]['forwardCurves'][0]['curve']['curvePoints'])\n",
    "    frwd_crv_deliv_df.columns.name=frwd_crv_deliv_req.data.raw['data'][0]['curveDefinition']['crossCurrencyDefinitions'][0]['name']\n",
    "else:\n",
    "    display(frwd_crv_deliv_req.errors)"
   ]
  },
  {
   "cell_type": "markdown",
   "metadata": {},
   "source": [
    "You can find information about the curve returned with `curveDefinition` and `curveParameters`:"
   ]
  },
  {
   "cell_type": "code",
   "execution_count": 4,
   "metadata": {},
   "outputs": [
    {
     "name": "stdout",
     "output_type": "stream",
     "text": [
      "curveDefinition\n"
     ]
    },
    {
     "data": {
      "text/plain": [
       "{'baseCurrency': 'EUR',\n",
       " 'quotedCurrency': 'GBP',\n",
       " 'crossCurrencyDefinitions': [{'baseCurrency': 'EUR',\n",
       "   'baseIndexName': 'EURIBOR',\n",
       "   'name': 'EUR GBP FxForward',\n",
       "   'quotedCurrency': 'GBP',\n",
       "   'quotedIndexName': 'LIBOR',\n",
       "   'source': 'Refinitiv',\n",
       "   'isNonDeliverable': False,\n",
       "   'mainConstituentAssetClass': 'FxForward',\n",
       "   'riskType': 'CrossCurrency',\n",
       "   'id': 'c2aecf88-3b26-405e-a7f0-30fa2c2918b7',\n",
       "   'ignoreExistingDefinition': False}]}"
      ]
     },
     "metadata": {},
     "output_type": "display_data"
    },
    {
     "name": "stdout",
     "output_type": "stream",
     "text": [
      "curveParameters\n"
     ]
    },
    {
     "data": {
      "text/plain": [
       "{'valuationDate': '2023-11-15',\n",
       " 'interpolationMode': 'Linear',\n",
       " 'extrapolationMode': 'Constant',\n",
       " 'turnAdjustments': {},\n",
       " 'ignorePivotCurrencyHolidays': False,\n",
       " 'useDelayedDataIfDenied': False,\n",
       " 'ignoreInvalidInstrument': True,\n",
       " 'marketDataLookBack': {'value': 96, 'unit': 'Hour'}}"
      ]
     },
     "metadata": {},
     "output_type": "display_data"
    }
   ],
   "source": [
    "print(\"curveDefinition\")\n",
    "display(frwd_crv_deliv_req.data.raw['data'][0]['curveDefinition'])\n",
    "print(\"curveParameters\")\n",
    "display(frwd_crv_deliv_req.data.raw['data'][0]['curveParameters'])"
   ]
  },
  {
   "cell_type": "code",
   "execution_count": 5,
   "metadata": {},
   "outputs": [
    {
     "data": {
      "text/html": [
       "<div>\n",
       "<style scoped>\n",
       "    .dataframe tbody tr th:only-of-type {\n",
       "        vertical-align: middle;\n",
       "    }\n",
       "\n",
       "    .dataframe tbody tr th {\n",
       "        vertical-align: top;\n",
       "    }\n",
       "\n",
       "    .dataframe thead th {\n",
       "        text-align: right;\n",
       "    }\n",
       "</style>\n",
       "<table border=\"1\" class=\"dataframe\">\n",
       "  <thead>\n",
       "    <tr style=\"text-align: right;\">\n",
       "      <th>EUR GBP FxForward</th>\n",
       "      <th>tenor</th>\n",
       "      <th>startDate</th>\n",
       "      <th>endDate</th>\n",
       "      <th>instruments</th>\n",
       "      <th>swapPoint.bid</th>\n",
       "      <th>swapPoint.ask</th>\n",
       "      <th>swapPoint.mid</th>\n",
       "      <th>outright.bid</th>\n",
       "      <th>outright.ask</th>\n",
       "      <th>outright.mid</th>\n",
       "    </tr>\n",
       "  </thead>\n",
       "  <tbody>\n",
       "    <tr>\n",
       "      <th>0</th>\n",
       "      <td>ON</td>\n",
       "      <td>2023-11-09</td>\n",
       "      <td>2023-11-10</td>\n",
       "      <td>[{'instrumentCode': 'EURGBPON='}]</td>\n",
       "      <td>0.000000</td>\n",
       "      <td>0.000000</td>\n",
       "      <td>0.000000</td>\n",
       "      <td>0.872240</td>\n",
       "      <td>0.872746</td>\n",
       "      <td>0.872493</td>\n",
       "    </tr>\n",
       "    <tr>\n",
       "      <th>1</th>\n",
       "      <td>SPOT</td>\n",
       "      <td>2023-11-13</td>\n",
       "      <td>2023-11-13</td>\n",
       "      <td>NaN</td>\n",
       "      <td>0.000000</td>\n",
       "      <td>0.000000</td>\n",
       "      <td>0.000000</td>\n",
       "      <td>0.872240</td>\n",
       "      <td>0.872746</td>\n",
       "      <td>0.872493</td>\n",
       "    </tr>\n",
       "    <tr>\n",
       "      <th>2</th>\n",
       "      <td>SN</td>\n",
       "      <td>2023-11-13</td>\n",
       "      <td>2023-11-14</td>\n",
       "      <td>[{'instrumentCode': 'EURGBPSN='}]</td>\n",
       "      <td>0.000000</td>\n",
       "      <td>0.000000</td>\n",
       "      <td>0.000000</td>\n",
       "      <td>0.872240</td>\n",
       "      <td>0.872746</td>\n",
       "      <td>0.872493</td>\n",
       "    </tr>\n",
       "    <tr>\n",
       "      <th>3</th>\n",
       "      <td>SW</td>\n",
       "      <td>2023-11-13</td>\n",
       "      <td>2023-11-20</td>\n",
       "      <td>[{'instrumentCode': 'EURGBPSW='}]</td>\n",
       "      <td>1.400000</td>\n",
       "      <td>1.480000</td>\n",
       "      <td>1.440000</td>\n",
       "      <td>0.872386</td>\n",
       "      <td>0.872888</td>\n",
       "      <td>0.872637</td>\n",
       "    </tr>\n",
       "    <tr>\n",
       "      <th>4</th>\n",
       "      <td>2W</td>\n",
       "      <td>2023-11-13</td>\n",
       "      <td>2023-11-27</td>\n",
       "      <td>[{'instrumentCode': 'EURGBP2W='}]</td>\n",
       "      <td>3.414286</td>\n",
       "      <td>3.615714</td>\n",
       "      <td>3.515000</td>\n",
       "      <td>0.872587</td>\n",
       "      <td>0.873102</td>\n",
       "      <td>0.872845</td>\n",
       "    </tr>\n",
       "    <tr>\n",
       "      <th>5</th>\n",
       "      <td>3W</td>\n",
       "      <td>2023-11-13</td>\n",
       "      <td>2023-12-04</td>\n",
       "      <td>[{'instrumentCode': 'EURGBP3W='}]</td>\n",
       "      <td>5.468571</td>\n",
       "      <td>5.785714</td>\n",
       "      <td>5.627143</td>\n",
       "      <td>0.872793</td>\n",
       "      <td>0.873319</td>\n",
       "      <td>0.873056</td>\n",
       "    </tr>\n",
       "    <tr>\n",
       "      <th>6</th>\n",
       "      <td>1M</td>\n",
       "      <td>2023-11-13</td>\n",
       "      <td>2023-12-13</td>\n",
       "      <td>[{'instrumentCode': 'EURGBP1M='}]</td>\n",
       "      <td>8.120000</td>\n",
       "      <td>8.415000</td>\n",
       "      <td>8.267500</td>\n",
       "      <td>0.873058</td>\n",
       "      <td>0.873582</td>\n",
       "      <td>0.873320</td>\n",
       "    </tr>\n",
       "    <tr>\n",
       "      <th>7</th>\n",
       "      <td>2M</td>\n",
       "      <td>2023-11-13</td>\n",
       "      <td>2024-01-16</td>\n",
       "      <td>[{'instrumentCode': 'EURGBP2M='}]</td>\n",
       "      <td>20.515000</td>\n",
       "      <td>20.850667</td>\n",
       "      <td>20.682833</td>\n",
       "      <td>0.874298</td>\n",
       "      <td>0.874825</td>\n",
       "      <td>0.874561</td>\n",
       "    </tr>\n",
       "    <tr>\n",
       "      <th>8</th>\n",
       "      <td>3M</td>\n",
       "      <td>2023-11-13</td>\n",
       "      <td>2024-02-13</td>\n",
       "      <td>[{'instrumentCode': 'EURGBP3M='}]</td>\n",
       "      <td>29.472727</td>\n",
       "      <td>29.902727</td>\n",
       "      <td>29.687727</td>\n",
       "      <td>0.875193</td>\n",
       "      <td>0.875730</td>\n",
       "      <td>0.875462</td>\n",
       "    </tr>\n",
       "    <tr>\n",
       "      <th>9</th>\n",
       "      <td>4M</td>\n",
       "      <td>2023-11-13</td>\n",
       "      <td>2024-03-13</td>\n",
       "      <td>[{'instrumentCode': 'EURGBP4M='}]</td>\n",
       "      <td>38.230714</td>\n",
       "      <td>38.845000</td>\n",
       "      <td>38.537857</td>\n",
       "      <td>0.876069</td>\n",
       "      <td>0.876625</td>\n",
       "      <td>0.876347</td>\n",
       "    </tr>\n",
       "    <tr>\n",
       "      <th>10</th>\n",
       "      <td>5M</td>\n",
       "      <td>2023-11-13</td>\n",
       "      <td>2024-04-15</td>\n",
       "      <td>[{'instrumentCode': 'EURGBP5M='}]</td>\n",
       "      <td>49.128000</td>\n",
       "      <td>49.647333</td>\n",
       "      <td>49.387667</td>\n",
       "      <td>0.877159</td>\n",
       "      <td>0.877705</td>\n",
       "      <td>0.877432</td>\n",
       "    </tr>\n",
       "    <tr>\n",
       "      <th>11</th>\n",
       "      <td>6M</td>\n",
       "      <td>2023-11-13</td>\n",
       "      <td>2024-05-13</td>\n",
       "      <td>[{'instrumentCode': 'EURGBP6M='}]</td>\n",
       "      <td>58.388667</td>\n",
       "      <td>59.479333</td>\n",
       "      <td>58.934000</td>\n",
       "      <td>0.878085</td>\n",
       "      <td>0.878688</td>\n",
       "      <td>0.878386</td>\n",
       "    </tr>\n",
       "    <tr>\n",
       "      <th>12</th>\n",
       "      <td>7M</td>\n",
       "      <td>2023-11-13</td>\n",
       "      <td>2024-06-13</td>\n",
       "      <td>[{'instrumentCode': 'EURGBP7M='}]</td>\n",
       "      <td>67.923226</td>\n",
       "      <td>71.080323</td>\n",
       "      <td>69.501774</td>\n",
       "      <td>0.879038</td>\n",
       "      <td>0.879848</td>\n",
       "      <td>0.879443</td>\n",
       "    </tr>\n",
       "    <tr>\n",
       "      <th>13</th>\n",
       "      <td>8M</td>\n",
       "      <td>2023-11-13</td>\n",
       "      <td>2024-07-15</td>\n",
       "      <td>[{'instrumentCode': 'EURGBP8M='}]</td>\n",
       "      <td>78.977333</td>\n",
       "      <td>82.754000</td>\n",
       "      <td>80.865667</td>\n",
       "      <td>0.880144</td>\n",
       "      <td>0.881015</td>\n",
       "      <td>0.880580</td>\n",
       "    </tr>\n",
       "    <tr>\n",
       "      <th>14</th>\n",
       "      <td>9M</td>\n",
       "      <td>2023-11-13</td>\n",
       "      <td>2024-08-13</td>\n",
       "      <td>[{'instrumentCode': 'EURGBP9M='}]</td>\n",
       "      <td>90.488182</td>\n",
       "      <td>92.234545</td>\n",
       "      <td>91.361364</td>\n",
       "      <td>0.881295</td>\n",
       "      <td>0.881963</td>\n",
       "      <td>0.881629</td>\n",
       "    </tr>\n",
       "    <tr>\n",
       "      <th>15</th>\n",
       "      <td>10M</td>\n",
       "      <td>2023-11-13</td>\n",
       "      <td>2024-09-13</td>\n",
       "      <td>[{'instrumentCode': 'EURGBP10M='}]</td>\n",
       "      <td>101.683103</td>\n",
       "      <td>103.266207</td>\n",
       "      <td>102.474655</td>\n",
       "      <td>0.882414</td>\n",
       "      <td>0.883067</td>\n",
       "      <td>0.882740</td>\n",
       "    </tr>\n",
       "    <tr>\n",
       "      <th>16</th>\n",
       "      <td>11M</td>\n",
       "      <td>2023-11-13</td>\n",
       "      <td>2024-10-15</td>\n",
       "      <td>[{'instrumentCode': 'EURGBP11M='}]</td>\n",
       "      <td>113.683333</td>\n",
       "      <td>114.893333</td>\n",
       "      <td>114.288333</td>\n",
       "      <td>0.883614</td>\n",
       "      <td>0.884229</td>\n",
       "      <td>0.883922</td>\n",
       "    </tr>\n",
       "    <tr>\n",
       "      <th>17</th>\n",
       "      <td>1Y</td>\n",
       "      <td>2023-11-13</td>\n",
       "      <td>2024-11-13</td>\n",
       "      <td>[{'instrumentCode': 'EURGBP1Y='}]</td>\n",
       "      <td>124.708438</td>\n",
       "      <td>126.614063</td>\n",
       "      <td>125.661250</td>\n",
       "      <td>0.884717</td>\n",
       "      <td>0.885401</td>\n",
       "      <td>0.885059</td>\n",
       "    </tr>\n",
       "    <tr>\n",
       "      <th>18</th>\n",
       "      <td>15M</td>\n",
       "      <td>2023-11-13</td>\n",
       "      <td>2025-02-13</td>\n",
       "      <td>[{'instrumentCode': 'EURGBP15M='}]</td>\n",
       "      <td>161.381319</td>\n",
       "      <td>164.750220</td>\n",
       "      <td>163.065769</td>\n",
       "      <td>0.888384</td>\n",
       "      <td>0.889215</td>\n",
       "      <td>0.888800</td>\n",
       "    </tr>\n",
       "    <tr>\n",
       "      <th>19</th>\n",
       "      <td>18M</td>\n",
       "      <td>2023-11-13</td>\n",
       "      <td>2025-05-13</td>\n",
       "      <td>[{'instrumentCode': 'EURGBP18M='}]</td>\n",
       "      <td>194.878352</td>\n",
       "      <td>199.149011</td>\n",
       "      <td>197.013681</td>\n",
       "      <td>0.891734</td>\n",
       "      <td>0.892655</td>\n",
       "      <td>0.892194</td>\n",
       "    </tr>\n",
       "    <tr>\n",
       "      <th>20</th>\n",
       "      <td>21M</td>\n",
       "      <td>2023-11-13</td>\n",
       "      <td>2025-08-13</td>\n",
       "      <td>[{'instrumentCode': 'EURGBP21M='}]</td>\n",
       "      <td>231.085824</td>\n",
       "      <td>235.652088</td>\n",
       "      <td>233.368956</td>\n",
       "      <td>0.895355</td>\n",
       "      <td>0.896305</td>\n",
       "      <td>0.895830</td>\n",
       "    </tr>\n",
       "    <tr>\n",
       "      <th>21</th>\n",
       "      <td>2Y</td>\n",
       "      <td>2023-11-13</td>\n",
       "      <td>2025-11-13</td>\n",
       "      <td>[{'instrumentCode': 'EURGBP2Y='}]</td>\n",
       "      <td>264.437363</td>\n",
       "      <td>269.753516</td>\n",
       "      <td>267.095440</td>\n",
       "      <td>0.898690</td>\n",
       "      <td>0.899715</td>\n",
       "      <td>0.899203</td>\n",
       "    </tr>\n",
       "    <tr>\n",
       "      <th>22</th>\n",
       "      <td>3Y</td>\n",
       "      <td>2023-11-13</td>\n",
       "      <td>2026-11-13</td>\n",
       "      <td>[{'instrumentCode': 'EURGBP3Y='}]</td>\n",
       "      <td>393.822356</td>\n",
       "      <td>401.457041</td>\n",
       "      <td>397.639699</td>\n",
       "      <td>0.911628</td>\n",
       "      <td>0.912886</td>\n",
       "      <td>0.912257</td>\n",
       "    </tr>\n",
       "    <tr>\n",
       "      <th>23</th>\n",
       "      <td>4Y</td>\n",
       "      <td>2023-11-13</td>\n",
       "      <td>2027-11-15</td>\n",
       "      <td>[{'instrumentCode': 'EURGBP4Y='}]</td>\n",
       "      <td>508.615342</td>\n",
       "      <td>519.060000</td>\n",
       "      <td>513.837671</td>\n",
       "      <td>0.923108</td>\n",
       "      <td>0.924646</td>\n",
       "      <td>0.923877</td>\n",
       "    </tr>\n",
       "    <tr>\n",
       "      <th>24</th>\n",
       "      <td>5Y</td>\n",
       "      <td>2023-11-13</td>\n",
       "      <td>2028-11-13</td>\n",
       "      <td>[{'instrumentCode': 'EURGBP5Y='}]</td>\n",
       "      <td>606.168962</td>\n",
       "      <td>619.398361</td>\n",
       "      <td>612.783661</td>\n",
       "      <td>0.932863</td>\n",
       "      <td>0.934680</td>\n",
       "      <td>0.933771</td>\n",
       "    </tr>\n",
       "    <tr>\n",
       "      <th>25</th>\n",
       "      <td>6Y</td>\n",
       "      <td>2023-11-13</td>\n",
       "      <td>2029-11-13</td>\n",
       "      <td>[{'instrumentCode': 'EURGBP6Y='}]</td>\n",
       "      <td>693.112752</td>\n",
       "      <td>710.110627</td>\n",
       "      <td>701.611689</td>\n",
       "      <td>0.941557</td>\n",
       "      <td>0.943751</td>\n",
       "      <td>0.942654</td>\n",
       "    </tr>\n",
       "    <tr>\n",
       "      <th>26</th>\n",
       "      <td>7Y</td>\n",
       "      <td>2023-11-13</td>\n",
       "      <td>2030-11-13</td>\n",
       "      <td>[{'instrumentCode': 'EURGBP7Y='}]</td>\n",
       "      <td>778.372418</td>\n",
       "      <td>797.404945</td>\n",
       "      <td>787.888681</td>\n",
       "      <td>0.950083</td>\n",
       "      <td>0.952480</td>\n",
       "      <td>0.951282</td>\n",
       "    </tr>\n",
       "    <tr>\n",
       "      <th>27</th>\n",
       "      <td>8Y</td>\n",
       "      <td>2023-11-13</td>\n",
       "      <td>2031-11-13</td>\n",
       "      <td>[{'instrumentCode': 'EURGBP8Y='}]</td>\n",
       "      <td>861.627912</td>\n",
       "      <td>883.654945</td>\n",
       "      <td>872.641429</td>\n",
       "      <td>0.958409</td>\n",
       "      <td>0.961105</td>\n",
       "      <td>0.959757</td>\n",
       "    </tr>\n",
       "    <tr>\n",
       "      <th>28</th>\n",
       "      <td>9Y</td>\n",
       "      <td>2023-11-13</td>\n",
       "      <td>2032-11-15</td>\n",
       "      <td>[{'instrumentCode': 'EURGBP9Y='}]</td>\n",
       "      <td>944.091913</td>\n",
       "      <td>970.130055</td>\n",
       "      <td>957.110984</td>\n",
       "      <td>0.966655</td>\n",
       "      <td>0.969753</td>\n",
       "      <td>0.968204</td>\n",
       "    </tr>\n",
       "    <tr>\n",
       "      <th>29</th>\n",
       "      <td>10Y</td>\n",
       "      <td>2023-11-13</td>\n",
       "      <td>2033-11-14</td>\n",
       "      <td>[{'instrumentCode': 'EURGBP10Y='}]</td>\n",
       "      <td>1030.824932</td>\n",
       "      <td>1058.868493</td>\n",
       "      <td>1044.846712</td>\n",
       "      <td>0.975328</td>\n",
       "      <td>0.978627</td>\n",
       "      <td>0.976978</td>\n",
       "    </tr>\n",
       "  </tbody>\n",
       "</table>\n",
       "</div>"
      ],
      "text/plain": [
       "EUR GBP FxForward tenor   startDate     endDate  \\\n",
       "0                    ON  2023-11-09  2023-11-10   \n",
       "1                  SPOT  2023-11-13  2023-11-13   \n",
       "2                    SN  2023-11-13  2023-11-14   \n",
       "3                    SW  2023-11-13  2023-11-20   \n",
       "4                    2W  2023-11-13  2023-11-27   \n",
       "5                    3W  2023-11-13  2023-12-04   \n",
       "6                    1M  2023-11-13  2023-12-13   \n",
       "7                    2M  2023-11-13  2024-01-16   \n",
       "8                    3M  2023-11-13  2024-02-13   \n",
       "9                    4M  2023-11-13  2024-03-13   \n",
       "10                   5M  2023-11-13  2024-04-15   \n",
       "11                   6M  2023-11-13  2024-05-13   \n",
       "12                   7M  2023-11-13  2024-06-13   \n",
       "13                   8M  2023-11-13  2024-07-15   \n",
       "14                   9M  2023-11-13  2024-08-13   \n",
       "15                  10M  2023-11-13  2024-09-13   \n",
       "16                  11M  2023-11-13  2024-10-15   \n",
       "17                   1Y  2023-11-13  2024-11-13   \n",
       "18                  15M  2023-11-13  2025-02-13   \n",
       "19                  18M  2023-11-13  2025-05-13   \n",
       "20                  21M  2023-11-13  2025-08-13   \n",
       "21                   2Y  2023-11-13  2025-11-13   \n",
       "22                   3Y  2023-11-13  2026-11-13   \n",
       "23                   4Y  2023-11-13  2027-11-15   \n",
       "24                   5Y  2023-11-13  2028-11-13   \n",
       "25                   6Y  2023-11-13  2029-11-13   \n",
       "26                   7Y  2023-11-13  2030-11-13   \n",
       "27                   8Y  2023-11-13  2031-11-13   \n",
       "28                   9Y  2023-11-13  2032-11-15   \n",
       "29                  10Y  2023-11-13  2033-11-14   \n",
       "\n",
       "EUR GBP FxForward                         instruments  swapPoint.bid  \\\n",
       "0                   [{'instrumentCode': 'EURGBPON='}]       0.000000   \n",
       "1                                                 NaN       0.000000   \n",
       "2                   [{'instrumentCode': 'EURGBPSN='}]       0.000000   \n",
       "3                   [{'instrumentCode': 'EURGBPSW='}]       1.400000   \n",
       "4                   [{'instrumentCode': 'EURGBP2W='}]       3.414286   \n",
       "5                   [{'instrumentCode': 'EURGBP3W='}]       5.468571   \n",
       "6                   [{'instrumentCode': 'EURGBP1M='}]       8.120000   \n",
       "7                   [{'instrumentCode': 'EURGBP2M='}]      20.515000   \n",
       "8                   [{'instrumentCode': 'EURGBP3M='}]      29.472727   \n",
       "9                   [{'instrumentCode': 'EURGBP4M='}]      38.230714   \n",
       "10                  [{'instrumentCode': 'EURGBP5M='}]      49.128000   \n",
       "11                  [{'instrumentCode': 'EURGBP6M='}]      58.388667   \n",
       "12                  [{'instrumentCode': 'EURGBP7M='}]      67.923226   \n",
       "13                  [{'instrumentCode': 'EURGBP8M='}]      78.977333   \n",
       "14                  [{'instrumentCode': 'EURGBP9M='}]      90.488182   \n",
       "15                 [{'instrumentCode': 'EURGBP10M='}]     101.683103   \n",
       "16                 [{'instrumentCode': 'EURGBP11M='}]     113.683333   \n",
       "17                  [{'instrumentCode': 'EURGBP1Y='}]     124.708438   \n",
       "18                 [{'instrumentCode': 'EURGBP15M='}]     161.381319   \n",
       "19                 [{'instrumentCode': 'EURGBP18M='}]     194.878352   \n",
       "20                 [{'instrumentCode': 'EURGBP21M='}]     231.085824   \n",
       "21                  [{'instrumentCode': 'EURGBP2Y='}]     264.437363   \n",
       "22                  [{'instrumentCode': 'EURGBP3Y='}]     393.822356   \n",
       "23                  [{'instrumentCode': 'EURGBP4Y='}]     508.615342   \n",
       "24                  [{'instrumentCode': 'EURGBP5Y='}]     606.168962   \n",
       "25                  [{'instrumentCode': 'EURGBP6Y='}]     693.112752   \n",
       "26                  [{'instrumentCode': 'EURGBP7Y='}]     778.372418   \n",
       "27                  [{'instrumentCode': 'EURGBP8Y='}]     861.627912   \n",
       "28                  [{'instrumentCode': 'EURGBP9Y='}]     944.091913   \n",
       "29                 [{'instrumentCode': 'EURGBP10Y='}]    1030.824932   \n",
       "\n",
       "EUR GBP FxForward  swapPoint.ask  swapPoint.mid  outright.bid  outright.ask  \\\n",
       "0                       0.000000       0.000000      0.872240      0.872746   \n",
       "1                       0.000000       0.000000      0.872240      0.872746   \n",
       "2                       0.000000       0.000000      0.872240      0.872746   \n",
       "3                       1.480000       1.440000      0.872386      0.872888   \n",
       "4                       3.615714       3.515000      0.872587      0.873102   \n",
       "5                       5.785714       5.627143      0.872793      0.873319   \n",
       "6                       8.415000       8.267500      0.873058      0.873582   \n",
       "7                      20.850667      20.682833      0.874298      0.874825   \n",
       "8                      29.902727      29.687727      0.875193      0.875730   \n",
       "9                      38.845000      38.537857      0.876069      0.876625   \n",
       "10                     49.647333      49.387667      0.877159      0.877705   \n",
       "11                     59.479333      58.934000      0.878085      0.878688   \n",
       "12                     71.080323      69.501774      0.879038      0.879848   \n",
       "13                     82.754000      80.865667      0.880144      0.881015   \n",
       "14                     92.234545      91.361364      0.881295      0.881963   \n",
       "15                    103.266207     102.474655      0.882414      0.883067   \n",
       "16                    114.893333     114.288333      0.883614      0.884229   \n",
       "17                    126.614063     125.661250      0.884717      0.885401   \n",
       "18                    164.750220     163.065769      0.888384      0.889215   \n",
       "19                    199.149011     197.013681      0.891734      0.892655   \n",
       "20                    235.652088     233.368956      0.895355      0.896305   \n",
       "21                    269.753516     267.095440      0.898690      0.899715   \n",
       "22                    401.457041     397.639699      0.911628      0.912886   \n",
       "23                    519.060000     513.837671      0.923108      0.924646   \n",
       "24                    619.398361     612.783661      0.932863      0.934680   \n",
       "25                    710.110627     701.611689      0.941557      0.943751   \n",
       "26                    797.404945     787.888681      0.950083      0.952480   \n",
       "27                    883.654945     872.641429      0.958409      0.961105   \n",
       "28                    970.130055     957.110984      0.966655      0.969753   \n",
       "29                   1058.868493    1044.846712      0.975328      0.978627   \n",
       "\n",
       "EUR GBP FxForward  outright.mid  \n",
       "0                      0.872493  \n",
       "1                      0.872493  \n",
       "2                      0.872493  \n",
       "3                      0.872637  \n",
       "4                      0.872845  \n",
       "5                      0.873056  \n",
       "6                      0.873320  \n",
       "7                      0.874561  \n",
       "8                      0.875462  \n",
       "9                      0.876347  \n",
       "10                     0.877432  \n",
       "11                     0.878386  \n",
       "12                     0.879443  \n",
       "13                     0.880580  \n",
       "14                     0.881629  \n",
       "15                     0.882740  \n",
       "16                     0.883922  \n",
       "17                     0.885059  \n",
       "18                     0.888800  \n",
       "19                     0.892194  \n",
       "20                     0.895830  \n",
       "21                     0.899203  \n",
       "22                     0.912257  \n",
       "23                     0.923877  \n",
       "24                     0.933771  \n",
       "25                     0.942654  \n",
       "26                     0.951282  \n",
       "27                     0.959757  \n",
       "28                     0.968204  \n",
       "29                     0.976978  "
      ]
     },
     "execution_count": 5,
     "metadata": {},
     "output_type": "execute_result"
    }
   ],
   "source": [
    "frwd_crv_deliv_df"
   ]
  },
  {
   "cell_type": "markdown",
   "metadata": {},
   "source": [
    "#### FX Forward Curves through time\n",
    "Let's now look into an example collecting several curves in one go, using 'relative' `startTenor` dates."
   ]
  },
  {
   "cell_type": "code",
   "execution_count": 6,
   "metadata": {},
   "outputs": [],
   "source": [
    "def get_fwd_surf_data(\n",
    "    intrvl,\n",
    "    rnge,\n",
    "    debug=True,\n",
    "    dta_of_intrst=\"swapPoint.bid\",\n",
    "    base_curr=\"EUR\",\n",
    "    quoted_curr=\"GBP\"):\n",
    "    \"\"\"\n",
    "    intrvl (str): 'D' for days, 'W' for weeks, 'M' for months, 'Y' for years.\n",
    "    rnge (str): We're looking until `rnge` `intrvl` forward, be it 10 Y, 4 D, 2 M, ...\n",
    "    dta_of_intrst (str): Data of interest, to select from 'swapPoint.bid', 'swapPoint.ask', 'swapPoint.mid', 'outright.bid', 'outright.ask', or 'outright.mid'.\n",
    "    debug (bool): If True, displays original `curves_df` dataframe.\n",
    "    \"\"\"\n",
    "\n",
    "    frwd_srf_deliv_req = rd.delivery.endpoint_request.Definition(\n",
    "        method=rd.delivery.endpoint_request.RequestMethod.POST,\n",
    "        url=\"https://api.refinitiv.com/data/quantitative-analytics-curves-and-surfaces/v1/curves/cross-currency-curves/forward-curves\",\n",
    "        body_parameters={\"universe\": [{\n",
    "          \"curveDefinition\": {\n",
    "              \"baseCurrency\": base_curr,\n",
    "              \"quotedCurrency\": quoted_curr,\n",
    "          },\n",
    "          \"forwardDefinitions\": [{\"startTenor\": f\"{i}{intrvl}\"} for i in range(0,rnge)]}]\n",
    "          }).get_data()\n",
    "\n",
    "    if debug is True:\n",
    "        print(f\"base_curr: {base_curr}, quoted_curr: {quoted_curr}, dta_of_intrst: {dta_of_intrst}, rnge: {rnge}, intrvl: {intrvl}\")\n",
    "        display(frwd_srf_deliv_req.data.raw)\n",
    "    \n",
    "    if frwd_srf_deliv_req.is_success:\n",
    "        raw_data = frwd_srf_deliv_req.data.raw['data'][0]\n",
    "        frwd_crv_deliv_df2_lst = [pd.json_normalize(\n",
    "            raw_data['forwardCurves'][i]['curve']['curvePoints'])\n",
    "            for i in range(0,rnge)]\n",
    "        for i in range(0,rnge):\n",
    "            len_raw_data = len(raw_data['forwardCurves'][i]['curve']['curvePoints'])\n",
    "            frwd_crv_deliv_df2_lst[i][\"curve\"]=[\n",
    "                raw_data['curveDefinition']['crossCurrencyDefinitions'][0]['name'] + f\" {i}{intrvl}\"\n",
    "                for j in range(len_raw_data)]\n",
    "            frwd_crv_deliv_df2_lst[i][f\"startTenorIn{intrvl}\"] = [i for j in range(len_raw_data)]\n",
    "            if i == 0:\n",
    "                curves_df = frwd_crv_deliv_df2_lst[i]\n",
    "            else:\n",
    "                curves_df = curves_df.append(frwd_crv_deliv_df2_lst[i])\n",
    "\n",
    "        if debug is True:\n",
    "            display(curves_df)\n",
    "        \n",
    "        surface_df = pd.DataFrame(\n",
    "            index=list(\n",
    "                curves_df[curves_df[f\"startTenorIn{intrvl}\"]==curves_df[f\"startTenorIn{intrvl}\"][0].iloc[0]][\"tenor\"]))\n",
    "        for i in curves_df.groupby([f\"startTenorIn{intrvl}\"]):\n",
    "            surface_df[i[0]] = list(i[1][dta_of_intrst].values)\n",
    "        surface_df.columns.name=f\"startTenorIn{intrvl}\"\n",
    "        surface_df.index.name=\"tenor\"\n",
    "        \n",
    "        titl = frwd_srf_deliv_req.data.raw['data'][0]['curveDefinition']['crossCurrencyDefinitions'][0]['name']\n",
    "\n",
    "    else:\n",
    "        display(frwd_srf_deliv_req.errors)\n",
    "\n",
    "    return {'frwd_crv_deliv_req': frwd_srf_deliv_req,\n",
    "            'curves_df': curves_df,\n",
    "            'surface_df': surface_df,\n",
    "            'titl': titl,\n",
    "            'dta_of_intrst': dta_of_intrst}"
   ]
  },
  {
   "cell_type": "code",
   "execution_count": 7,
   "metadata": {},
   "outputs": [],
   "source": [
    "def plot_surface(surfaces,  # surface_df\n",
    "                 surfaceTag,  # titl\n",
    "                 tenors,\n",
    "                 dta_of_intrst=\"swapPoint.bid\",\n",
    "                 tenors_in_order=['ON', 'SPOT', 'SN', 'SW', '2W', '3W', '1M', '2M', '3M', '4M', '5M', '6M', '7M', '8M', '9M', '10M', '11M', '1Y', '15M', '18M', '21M', '2Y', '3Y', '4Y', '5Y', '6Y', '7Y', '8Y', '9Y', '10Y']):\n",
    "    \n",
    "    _surfaces = surfaces.loc[[i for i in tenors_in_order if i in tenors and i in surfaces.index]]\n",
    "\n",
    "    fig = go.Figure(data=[go.Surface(z=_surfaces.values)])\n",
    "\n",
    "    fig.update_layout(\n",
    "        template=\"plotly_dark\",\n",
    "        title=surfaceTag,\n",
    "        autosize=False,\n",
    "        width=1000, height=600,\n",
    "        margin=dict(l=5, r=5, b=5, t=80),\n",
    "        scene=dict(\n",
    "            xaxis_title=f\"x: {_surfaces.columns.name}\",\n",
    "            yaxis_title=f\"y: {_surfaces.index.name}\",\n",
    "            zaxis_title=f\"z: {dta_of_intrst}\",\n",
    "            yaxis=dict(ticktext=list(_surfaces.index),\n",
    "                       tickvals=[i for i in range(len(_surfaces))])))\n",
    "\n",
    "    fig.show()"
   ]
  },
  {
   "cell_type": "code",
   "execution_count": 13,
   "metadata": {},
   "outputs": [],
   "source": [
    "def FX_fwrd_srfce(\n",
    "    debug=False,\n",
    "    base_currency=\"EUR\",\n",
    "    quote_currency=\"GBP\",\n",
    "    tenors_in_order=['ON', 'SPOT', 'SN', 'SW', '2W', '3W', '1M', '2M', '3M', '4M', '5M', '6M', '7M', '8M', '9M', '10M', '11M', '1Y', '15M', '18M', '21M', '2Y', '3Y', '4Y', '5Y', '6Y', '7Y', '8Y', '9Y', '10Y']):\n",
    "\n",
    "    fx_pair_out = widgets.Output()\n",
    "    fx_pair_choice = TextFieldAutosuggest(placeholder='Currency FX Pair', filters=['FX'])\n",
    "    display(fx_pair_choice, fx_pair_out) # This displays the box\n",
    "    \n",
    "    # print('Data of interest (Swap Points or Outrights; Ask, Bid, or Mid?)')\n",
    "    dta_of_intrst_select_out = widgets.Output()\n",
    "    dta_of_intrst_choice = Select(placeholder='Data of interest (Swap Points or Outrights; Ask, Bid, or Mid?)', width=300.0)\n",
    "    dta_of_intrst_choice.data = [\n",
    "        {'value': i, 'label': i, 'items': []}\n",
    "         for i in ['swapPoint.bid', 'swapPoint.ask', 'swapPoint.mid', 'outright.bid', 'outright.ask', 'outright.mid']]\n",
    "    display(dta_of_intrst_choice, dta_of_intrst_select_out)\n",
    "\n",
    "    tenor_select_out = widgets.Output()\n",
    "    intrvl_choice = Select(placeholder='Start Tenor Interval', width=300.0)\n",
    "    intrvl_choice.data = [{'value': i, 'label': i, 'items': []}\n",
    "                          for i in ['D', 'W', 'M', 'Y']]\n",
    "    display(intrvl_choice, tenor_select_out)\n",
    "\n",
    "    range_select_out = widgets.Output()\n",
    "    rng_choice = Select(placeholder='Range', width=300.0)\n",
    "    # slct_dta = [{'label': f\"{1}\", 'value': 1, 'selected': True}]\n",
    "    # for i in range(2, 11):\n",
    "    #     slct_dta.append({'label': f\"{i}\", 'value': i})\n",
    "    rng_choice.data = [{'value': str(i), 'label': str(i), 'items': []}\n",
    "                       for i in range(2, 31)]\n",
    "    display(rng_choice, range_select_out)\n",
    "\n",
    "    # print('Tenor(s)')\n",
    "    tenor_choice_data = copy.deepcopy([\n",
    "        {'value': i, 'label': i, 'items': []}\n",
    "        for i in tenors_in_order])\n",
    "    tenor_chose = MultiSelect(placeholder='Tenor(s)', data=tenor_choice_data, no_relation=True)\n",
    "    display(tenor_chose)\n",
    "\n",
    "    # create widgets\n",
    "    button = Button('Create/Update Surface')\n",
    "    button_output = widgets.Output()\n",
    "\n",
    "    # create click handler\n",
    "    def click_handler(a):\n",
    "        with button_output:\n",
    "\n",
    "            IPython.display.clear_output(wait=True)\n",
    "            \n",
    "            bs_cur = fx_pair_choice.value.split(\"=\",1)[0][:3]\n",
    "            qu_cur = fx_pair_choice.value.split(\"=\",1)[0][3:6]\n",
    "            if len(qu_cur) == 0:\n",
    "                qu_cur = \"USD\"\n",
    "            \n",
    "            try:\n",
    "                BASE_CCY_check = rd.get_data(fx_pair_choice.value, \"BASE_CCY\")\n",
    "            except:\n",
    "                print(f\"{fx_pair_choice.value} is not an FX pair. Fetching data foir it gave the following error:\")\n",
    "                rd.get_data(fx_pair_choice.value, \"BASE_CCY\")\n",
    "            if len(BASE_CCY_check) <= 0:\n",
    "                print(f\"Note that {fx_pair_choice.value}' is not a 'pure' FX pair(such as 'EURGBP=' or 'JPY='). Fetching data for it may give an error.\")\n",
    "                rd.get_data(fx_pair_choice.value, \"BASE_CCY\")\n",
    "\n",
    "            surfs_data = get_fwd_surf_data(\n",
    "                base_curr=bs_cur,\n",
    "                quoted_curr=qu_cur,\n",
    "                debug=debug,\n",
    "                intrvl=intrvl_choice.value,\n",
    "                rnge=int(rng_choice.value),\n",
    "                dta_of_intrst=dta_of_intrst_choice.value)\n",
    "\n",
    "            plot_surface(\n",
    "                surfaces=surfs_data['surface_df'],\n",
    "                surfaceTag=surfs_data['titl'],\n",
    "                tenors=tenor_chose.value,\n",
    "                dta_of_intrst=surfs_data['dta_of_intrst'])\n",
    "            print(f\"Updated on {datetime.datetime.now().strftime('%Y-%m-%d %H:%M.%s')}\")\n",
    "\n",
    "    # refister click handler for button\n",
    "    button.on_click(click_handler)\n",
    "    display(button)\n",
    "\n",
    "    # display our widgets\n",
    "    display(button_output)"
   ]
  },
  {
   "cell_type": "code",
   "execution_count": 14,
   "metadata": {
    "tags": []
   },
   "outputs": [
    {
     "data": {
      "application/vnd.jupyter.widget-view+json": {
       "model_id": "72717f3edd44408a890e0c098920b211",
       "version_major": 2,
       "version_minor": 0
      },
      "text/plain": [
       "TextFieldAutosuggest(value='', filters=['FX'], placeholder='Currency FX Pair', profile='', tooltip='')"
      ]
     },
     "metadata": {},
     "output_type": "display_data"
    },
    {
     "data": {
      "application/vnd.jupyter.widget-view+json": {
       "model_id": "9f789a2a6bf54026a7dff89d836cc66d",
       "version_major": 2,
       "version_minor": 0
      },
      "text/plain": [
       "Output()"
      ]
     },
     "metadata": {},
     "output_type": "display_data"
    },
    {
     "data": {
      "application/vnd.jupyter.widget-view+json": {
       "model_id": "4259f7f2a7694cb4bd8f2a7fd746a4d5",
       "version_major": 2,
       "version_minor": 0
      },
      "text/plain": [
       "Select(data=[{'value': 'swapPoint.bid', 'label': 'swapPoint.bid', 'items': []}, {'value': 'swapPoint.ask', 'la…"
      ]
     },
     "metadata": {},
     "output_type": "display_data"
    },
    {
     "data": {
      "application/vnd.jupyter.widget-view+json": {
       "model_id": "e1954ca5f9f147f68cbb0a17e43b7e07",
       "version_major": 2,
       "version_minor": 0
      },
      "text/plain": [
       "Output()"
      ]
     },
     "metadata": {},
     "output_type": "display_data"
    },
    {
     "data": {
      "application/vnd.jupyter.widget-view+json": {
       "model_id": "564113763e464697ab721e934a5a807c",
       "version_major": 2,
       "version_minor": 0
      },
      "text/plain": [
       "Select(data=[{'value': 'D', 'label': 'D', 'items': []}, {'value': 'W', 'label': 'W', 'items': []}, {'value': '…"
      ]
     },
     "metadata": {},
     "output_type": "display_data"
    },
    {
     "data": {
      "application/vnd.jupyter.widget-view+json": {
       "model_id": "da2adbe12cd04f26908752a394be2f21",
       "version_major": 2,
       "version_minor": 0
      },
      "text/plain": [
       "Output()"
      ]
     },
     "metadata": {},
     "output_type": "display_data"
    },
    {
     "data": {
      "application/vnd.jupyter.widget-view+json": {
       "model_id": "cf923fe2543c49da979ea4ae3d8b289b",
       "version_major": 2,
       "version_minor": 0
      },
      "text/plain": [
       "Select(data=[{'value': '2', 'label': '2', 'items': []}, {'value': '3', 'label': '3', 'items': []}, {'value': '…"
      ]
     },
     "metadata": {},
     "output_type": "display_data"
    },
    {
     "data": {
      "application/vnd.jupyter.widget-view+json": {
       "model_id": "bd7e9e6965454235afcb419996713816",
       "version_major": 2,
       "version_minor": 0
      },
      "text/plain": [
       "Output()"
      ]
     },
     "metadata": {},
     "output_type": "display_data"
    },
    {
     "data": {
      "application/vnd.jupyter.widget-view+json": {
       "model_id": "e5be1d00a40e446fa4e87c9614e5bafa",
       "version_major": 2,
       "version_minor": 0
      },
      "text/plain": [
       "MultiSelect(data=[{'value': 'ON', 'label': 'ON', 'items': []}, {'value': 'SPOT', 'label': 'SPOT', 'items': []}…"
      ]
     },
     "metadata": {},
     "output_type": "display_data"
    },
    {
     "data": {
      "application/vnd.jupyter.widget-view+json": {
       "model_id": "8a3f351f28b84bb69130bb0d79771efb",
       "version_major": 2,
       "version_minor": 0
      },
      "text/plain": [
       "Button(height=0.0, tooltip='', value='Create/Update Surface', width=0.0)"
      ]
     },
     "metadata": {},
     "output_type": "display_data"
    },
    {
     "data": {
      "application/vnd.jupyter.widget-view+json": {
       "model_id": "29109a21002644f9bd57fc3bdb6f6b94",
       "version_major": 2,
       "version_minor": 0
      },
      "text/plain": [
       "Output()"
      ]
     },
     "metadata": {},
     "output_type": "display_data"
    }
   ],
   "source": [
    "FX_fwrd_srfce(debug=False)"
   ]
  },
  {
   "cell_type": "markdown",
   "metadata": {},
   "source": [
    "# Conclusion\n",
    "\n",
    "## Reference of Endpoints' Documentation as of 2023-11-07:\n",
    "\n",
    "- /data/quantitative-analytics-curves-and-surfaces/v1/curves/cross-currency-curves/curves:\n",
    "\n",
    "https://developers.lseg.com/en/api-catalog/refinitiv-data-platform/refinitiv-data-platform-apis/documentation#ipa-curves-service-construction-of-the-fx-forward-curve\n",
    "\n",
    "- /data/quantitative-analytics-curves-and-surfaces/v1/curves/zc-curves:\n",
    "\n",
    "https://developers.lseg.com/en/api-catalog/refinitiv-data-platform/refinitiv-data-platform-apis/documentation#ipa-curves-service-construction-of-the-zero-coupon-curve\n",
    "\n",
    "- /data/quantitative-analytics-curves-and-surfaces/v1/curves/forward-curves:\n",
    "\n",
    "https://developers.lseg.com/en/api-catalog/refinitiv-data-platform/refinitiv-data-platform-apis/documentation#ipa-curves-service-construction-of-the-forward-zero-coupon-curve\n",
    "\n",
    "- /data/quantitative-analytics-curves-and-surfaces/v1/curves/cross-currency-curves/forward-curves:\n",
    "\n",
    "This is in progress.\n",
    "\n",
    "- /data/quantitative-analytics-curves-and-surfaces/v1/curves/credit-curves/curves:\n",
    "\n",
    "https://developers.lseg.com/en/api-catalog/refinitiv-data-platform/refinitiv-data-platform-apis/documentation#ipa-curves-service-construction-of-the-commodity-forward-curve\n",
    "\n",
    "- /data/quantitative-analytics-curves-and-surfaces/v1/curves/inflation-curves/curves:\n",
    "\n",
    "https://developers.lseg.com/en/api-catalog/refinitiv-data-platform/refinitiv-data-platform-apis/documentation#ipa-curves-service-construction-of-the-inflation-curve"
   ]
  },
  {
   "cell_type": "code",
   "execution_count": null,
   "metadata": {},
   "outputs": [],
   "source": []
  }
 ],
 "metadata": {
  "kernelspec": {
   "display_name": "Python 3",
   "language": "python",
   "name": "python3"
  },
  "language_info": {
   "codemirror_mode": {
    "name": "ipython",
    "version": 3
   },
   "file_extension": ".py",
   "mimetype": "text/x-python",
   "name": "python",
   "nbconvert_exporter": "python",
   "pygments_lexer": "ipython3",
   "version": "3.8.15"
  },
  "widgets": {
   "application/vnd.jupyter.widget-state+json": {
    "state": {
     "09ef2bf4f60e4c92855f2bdd36fe6c01": {
      "model_module": "@jupyter-widgets/base",
      "model_module_version": "1.2.0",
      "model_name": "LayoutModel",
      "state": {}
     },
     "29109a21002644f9bd57fc3bdb6f6b94": {
      "model_module": "@jupyter-widgets/output",
      "model_module_version": "1.0.0",
      "model_name": "OutputModel",
      "state": {
       "layout": "IPY_MODEL_09ef2bf4f60e4c92855f2bdd36fe6c01",
       "outputs": [
        {
         "data": {
          "application/vnd.plotly.v1+json": {
           "config": {
            "plotlyServerURL": "https://plot.ly"
           },
           "data": [
            {
             "type": "surface",
             "z": [
              [
               1.0866182,
               1.105233,
               1.1234674340659339,
               1.141786,
               1.1596708657534243,
               1.177779521857924,
               1.1934710817438696
              ],
              [
               1.0867,
               1.105287663043479,
               1.1235148681318678,
               1.1418351342465751,
               1.15972,
               1.177829,
               1.1936
              ],
              [
               1.086829,
               1.105342326086957,
               1.1235623021978018,
               1.1418842684931503,
               1.1597694781420766,
               1.1779579182561313,
               1.1936475274725276
              ],
              [
               1.087002,
               1.1056703043478269,
               1.1238469065934062,
               1.1421790739726023,
               1.1600663469945358,
               1.1781298092643058,
               1.1939326923076923
              ],
              [
               1.087314,
               1.1060529456521748,
               1.1241789450549449,
               1.1425230136986297,
               1.1604126939890713,
               1.1784306185286106,
               1.1942653846153843
              ],
              [
               1.087613,
               1.1064355869565226,
               1.1245109835164833,
               1.1428669534246572,
               1.160759040983607,
               1.178731427792916,
               1.1945980769230768
              ],
              [
               1.088057,
               1.1069275543478267,
               1.1249378901098899,
               1.1433091616438353,
               1.1612043442622955,
               1.179161155313352,
               1.1950258241758243
              ],
              [
               1.089815,
               1.1087314347826094,
               1.1264557802197799,
               1.144881457534246,
               1.1627876448087435,
               1.1804503378746598,
               1.196641758241758
              ],
              [
               1.091365,
               1.1103121111111096,
               1.127878802197802,
               1.1463554849315063,
               1.1642719890710385,
               1.1819114114441422,
               1.1979725274725275
              ],
              [
               1.092587,
               1.1117152222222209,
               1.129206956043956,
               1.147731243835616,
               1.1657068551912573,
               1.1830716757493192,
               1.1993032967032966
              ],
              [
               1.094073,
               1.1134189999999984,
               1.130724846153846,
               1.1493035397260267,
               1.1672901557377051,
               1.1843178855585836,
               1.200966758241758
              ],
              [
               1.095642,
               1.114772,
               1.1321061857923493,
               1.150728432876712,
               1.1687250218579237,
               1.1856070681198916,
               1.20225
              ],
              [
               1.097047,
               1.1163058901098895,
               1.1339145027322404,
               1.1522515945205476,
               1.170407278688525,
               1.1869821961852867,
               1.2037233516483516
              ],
              [
               1.098572,
               1.1177918461538454,
               1.1354037049180326,
               1.1537747561643832,
               1.1717431885245904,
               1.188228405994551,
               1.2051016483516483
              ],
              [
               1.10036,
               1.1191810989011006,
               1.1369992786885244,
               1.1552487835616434,
               1.173277010928962,
               1.1895605613079023,
               1.206575
              ],
              [
               1.10184,
               1.1206411648351666,
               1.1387544098360654,
               1.1568702136986295,
               1.17486031147541,
               1.190892716621254,
               1.2080483516483516
              ],
              [
               1.103418,
               1.1221012307692326,
               1.1402436120218575,
               1.1582459726027392,
               1.1762951775956287,
               1.1921818991825617,
               1.2095692307692305
              ],
              [
               1.105233,
               1.1235148681318678,
               1.1418842684931503,
               1.1597694781420766,
               1.177829,
               1.1936,
               1.2109472527472525
              ],
              [
               1.110262,
               1.127878802197802,
               1.1464046191780817,
               1.164321467213115,
               1.1819114114441422,
               1.1979725274725275,
               1.2152945054945052
              ],
              [
               1.114772,
               1.1321061857923493,
               1.1507775671232874,
               1.1687745000000003,
               1.1856070681198916,
               1.2021074175824176,
               1.2195
              ],
              [
               1.119134,
               1.1369992786885244,
               1.1552979178082188,
               1.1733264890710386,
               1.1895605613079023,
               1.206575,
               1.2238472527472524
              ],
              [
               1.12342,
               1.1418842684931503,
               1.1598189562841532,
               1.1779579182561313,
               1.1936,
               1.2109,
               1.2281939890710383
              ],
              [
               1.141786,
               1.1598189562841532,
               1.1779579182561313,
               1.1936,
               1.2109,
               1.2281,
               1.2453898630136984
              ],
              [
               1.15972,
               1.1779579182561313,
               1.1936,
               1.2109,
               1.2281,
               1.2453,
               1.2617
              ],
              [
               1.177829,
               1.1936,
               1.2109472527472525,
               1.228146994535519,
               1.2453,
               1.2617,
               1.2617
              ],
              [
               1.1936,
               1.2109472527472525,
               1.2281939890710383,
               1.2453449315068494,
               1.2617,
               1.2617,
               1.2617
              ],
              [
               1.2109,
               1.2281939890710383,
               1.2453898630136984,
               1.2617,
               1.2617,
               1.2617,
               1.2617
              ],
              [
               1.2281,
               1.2453898630136984,
               1.2617,
               1.2617,
               1.2617,
               1.2617,
               1.2617
              ],
              [
               1.2453,
               1.2617,
               1.2617,
               1.2617,
               1.2617,
               1.2617,
               1.2617
              ],
              [
               1.2617,
               1.2617,
               1.2617,
               1.2617,
               1.2617,
               1.2617,
               1.2617
              ]
             ]
            }
           ],
           "layout": {
            "autosize": false,
            "height": 600,
            "margin": {
             "b": 5,
             "l": 5,
             "r": 5,
             "t": 80
            },
            "scene": {
             "aspectmode": "auto",
             "aspectratio": {
              "x": 1,
              "y": 1,
              "z": 1
             },
             "camera": {
              "center": {
               "x": 0,
               "y": 0,
               "z": 0
              },
              "eye": {
               "x": 1.4367449054691586,
               "y": -1.4194793763180484,
               "z": 0.7799630611869662
              },
              "projection": {
               "type": "perspective"
              },
              "up": {
               "x": 0,
               "y": 0,
               "z": 1
              }
             },
             "xaxis": {
              "title": {
               "text": "x: startTenorInY"
              }
             },
             "yaxis": {
              "ticktext": [
               "ON",
               "SPOT",
               "SN",
               "SW",
               "2W",
               "3W",
               "1M",
               "2M",
               "3M",
               "4M",
               "5M",
               "6M",
               "7M",
               "8M",
               "9M",
               "10M",
               "11M",
               "1Y",
               "15M",
               "18M",
               "21M",
               "2Y",
               "3Y",
               "4Y",
               "5Y",
               "6Y",
               "7Y",
               "8Y",
               "9Y",
               "10Y"
              ],
              "tickvals": [
               0,
               1,
               2,
               3,
               4,
               5,
               6,
               7,
               8,
               9,
               10,
               11,
               12,
               13,
               14,
               15,
               16,
               17,
               18,
               19,
               20,
               21,
               22,
               23,
               24,
               25,
               26,
               27,
               28,
               29
              ],
              "title": {
               "text": "y: tenor"
              }
             },
             "zaxis": {
              "title": {
               "text": "z: outright.ask"
              },
              "type": "linear"
             }
            },
            "template": {
             "data": {
              "bar": [
               {
                "error_x": {
                 "color": "#f2f5fa"
                },
                "error_y": {
                 "color": "#f2f5fa"
                },
                "marker": {
                 "line": {
                  "color": "rgb(17,17,17)",
                  "width": 0.5
                 },
                 "pattern": {
                  "fillmode": "overlay",
                  "size": 10,
                  "solidity": 0.2
                 }
                },
                "type": "bar"
               }
              ],
              "barpolar": [
               {
                "marker": {
                 "line": {
                  "color": "rgb(17,17,17)",
                  "width": 0.5
                 },
                 "pattern": {
                  "fillmode": "overlay",
                  "size": 10,
                  "solidity": 0.2
                 }
                },
                "type": "barpolar"
               }
              ],
              "carpet": [
               {
                "aaxis": {
                 "endlinecolor": "#A2B1C6",
                 "gridcolor": "#506784",
                 "linecolor": "#506784",
                 "minorgridcolor": "#506784",
                 "startlinecolor": "#A2B1C6"
                },
                "baxis": {
                 "endlinecolor": "#A2B1C6",
                 "gridcolor": "#506784",
                 "linecolor": "#506784",
                 "minorgridcolor": "#506784",
                 "startlinecolor": "#A2B1C6"
                },
                "type": "carpet"
               }
              ],
              "choropleth": [
               {
                "colorbar": {
                 "outlinewidth": 0,
                 "ticks": ""
                },
                "type": "choropleth"
               }
              ],
              "contour": [
               {
                "colorbar": {
                 "outlinewidth": 0,
                 "ticks": ""
                },
                "colorscale": [
                 [
                  0,
                  "#0d0887"
                 ],
                 [
                  0.1111111111111111,
                  "#46039f"
                 ],
                 [
                  0.2222222222222222,
                  "#7201a8"
                 ],
                 [
                  0.3333333333333333,
                  "#9c179e"
                 ],
                 [
                  0.4444444444444444,
                  "#bd3786"
                 ],
                 [
                  0.5555555555555556,
                  "#d8576b"
                 ],
                 [
                  0.6666666666666666,
                  "#ed7953"
                 ],
                 [
                  0.7777777777777778,
                  "#fb9f3a"
                 ],
                 [
                  0.8888888888888888,
                  "#fdca26"
                 ],
                 [
                  1,
                  "#f0f921"
                 ]
                ],
                "type": "contour"
               }
              ],
              "contourcarpet": [
               {
                "colorbar": {
                 "outlinewidth": 0,
                 "ticks": ""
                },
                "type": "contourcarpet"
               }
              ],
              "heatmap": [
               {
                "colorbar": {
                 "outlinewidth": 0,
                 "ticks": ""
                },
                "colorscale": [
                 [
                  0,
                  "#0d0887"
                 ],
                 [
                  0.1111111111111111,
                  "#46039f"
                 ],
                 [
                  0.2222222222222222,
                  "#7201a8"
                 ],
                 [
                  0.3333333333333333,
                  "#9c179e"
                 ],
                 [
                  0.4444444444444444,
                  "#bd3786"
                 ],
                 [
                  0.5555555555555556,
                  "#d8576b"
                 ],
                 [
                  0.6666666666666666,
                  "#ed7953"
                 ],
                 [
                  0.7777777777777778,
                  "#fb9f3a"
                 ],
                 [
                  0.8888888888888888,
                  "#fdca26"
                 ],
                 [
                  1,
                  "#f0f921"
                 ]
                ],
                "type": "heatmap"
               }
              ],
              "heatmapgl": [
               {
                "colorbar": {
                 "outlinewidth": 0,
                 "ticks": ""
                },
                "colorscale": [
                 [
                  0,
                  "#0d0887"
                 ],
                 [
                  0.1111111111111111,
                  "#46039f"
                 ],
                 [
                  0.2222222222222222,
                  "#7201a8"
                 ],
                 [
                  0.3333333333333333,
                  "#9c179e"
                 ],
                 [
                  0.4444444444444444,
                  "#bd3786"
                 ],
                 [
                  0.5555555555555556,
                  "#d8576b"
                 ],
                 [
                  0.6666666666666666,
                  "#ed7953"
                 ],
                 [
                  0.7777777777777778,
                  "#fb9f3a"
                 ],
                 [
                  0.8888888888888888,
                  "#fdca26"
                 ],
                 [
                  1,
                  "#f0f921"
                 ]
                ],
                "type": "heatmapgl"
               }
              ],
              "histogram": [
               {
                "marker": {
                 "pattern": {
                  "fillmode": "overlay",
                  "size": 10,
                  "solidity": 0.2
                 }
                },
                "type": "histogram"
               }
              ],
              "histogram2d": [
               {
                "colorbar": {
                 "outlinewidth": 0,
                 "ticks": ""
                },
                "colorscale": [
                 [
                  0,
                  "#0d0887"
                 ],
                 [
                  0.1111111111111111,
                  "#46039f"
                 ],
                 [
                  0.2222222222222222,
                  "#7201a8"
                 ],
                 [
                  0.3333333333333333,
                  "#9c179e"
                 ],
                 [
                  0.4444444444444444,
                  "#bd3786"
                 ],
                 [
                  0.5555555555555556,
                  "#d8576b"
                 ],
                 [
                  0.6666666666666666,
                  "#ed7953"
                 ],
                 [
                  0.7777777777777778,
                  "#fb9f3a"
                 ],
                 [
                  0.8888888888888888,
                  "#fdca26"
                 ],
                 [
                  1,
                  "#f0f921"
                 ]
                ],
                "type": "histogram2d"
               }
              ],
              "histogram2dcontour": [
               {
                "colorbar": {
                 "outlinewidth": 0,
                 "ticks": ""
                },
                "colorscale": [
                 [
                  0,
                  "#0d0887"
                 ],
                 [
                  0.1111111111111111,
                  "#46039f"
                 ],
                 [
                  0.2222222222222222,
                  "#7201a8"
                 ],
                 [
                  0.3333333333333333,
                  "#9c179e"
                 ],
                 [
                  0.4444444444444444,
                  "#bd3786"
                 ],
                 [
                  0.5555555555555556,
                  "#d8576b"
                 ],
                 [
                  0.6666666666666666,
                  "#ed7953"
                 ],
                 [
                  0.7777777777777778,
                  "#fb9f3a"
                 ],
                 [
                  0.8888888888888888,
                  "#fdca26"
                 ],
                 [
                  1,
                  "#f0f921"
                 ]
                ],
                "type": "histogram2dcontour"
               }
              ],
              "mesh3d": [
               {
                "colorbar": {
                 "outlinewidth": 0,
                 "ticks": ""
                },
                "type": "mesh3d"
               }
              ],
              "parcoords": [
               {
                "line": {
                 "colorbar": {
                  "outlinewidth": 0,
                  "ticks": ""
                 }
                },
                "type": "parcoords"
               }
              ],
              "pie": [
               {
                "automargin": true,
                "type": "pie"
               }
              ],
              "scatter": [
               {
                "marker": {
                 "line": {
                  "color": "#283442"
                 }
                },
                "type": "scatter"
               }
              ],
              "scatter3d": [
               {
                "line": {
                 "colorbar": {
                  "outlinewidth": 0,
                  "ticks": ""
                 }
                },
                "marker": {
                 "colorbar": {
                  "outlinewidth": 0,
                  "ticks": ""
                 }
                },
                "type": "scatter3d"
               }
              ],
              "scattercarpet": [
               {
                "marker": {
                 "colorbar": {
                  "outlinewidth": 0,
                  "ticks": ""
                 }
                },
                "type": "scattercarpet"
               }
              ],
              "scattergeo": [
               {
                "marker": {
                 "colorbar": {
                  "outlinewidth": 0,
                  "ticks": ""
                 }
                },
                "type": "scattergeo"
               }
              ],
              "scattergl": [
               {
                "marker": {
                 "line": {
                  "color": "#283442"
                 }
                },
                "type": "scattergl"
               }
              ],
              "scattermapbox": [
               {
                "marker": {
                 "colorbar": {
                  "outlinewidth": 0,
                  "ticks": ""
                 }
                },
                "type": "scattermapbox"
               }
              ],
              "scatterpolar": [
               {
                "marker": {
                 "colorbar": {
                  "outlinewidth": 0,
                  "ticks": ""
                 }
                },
                "type": "scatterpolar"
               }
              ],
              "scatterpolargl": [
               {
                "marker": {
                 "colorbar": {
                  "outlinewidth": 0,
                  "ticks": ""
                 }
                },
                "type": "scatterpolargl"
               }
              ],
              "scatterternary": [
               {
                "marker": {
                 "colorbar": {
                  "outlinewidth": 0,
                  "ticks": ""
                 }
                },
                "type": "scatterternary"
               }
              ],
              "surface": [
               {
                "colorbar": {
                 "outlinewidth": 0,
                 "ticks": ""
                },
                "colorscale": [
                 [
                  0,
                  "#0d0887"
                 ],
                 [
                  0.1111111111111111,
                  "#46039f"
                 ],
                 [
                  0.2222222222222222,
                  "#7201a8"
                 ],
                 [
                  0.3333333333333333,
                  "#9c179e"
                 ],
                 [
                  0.4444444444444444,
                  "#bd3786"
                 ],
                 [
                  0.5555555555555556,
                  "#d8576b"
                 ],
                 [
                  0.6666666666666666,
                  "#ed7953"
                 ],
                 [
                  0.7777777777777778,
                  "#fb9f3a"
                 ],
                 [
                  0.8888888888888888,
                  "#fdca26"
                 ],
                 [
                  1,
                  "#f0f921"
                 ]
                ],
                "type": "surface"
               }
              ],
              "table": [
               {
                "cells": {
                 "fill": {
                  "color": "#506784"
                 },
                 "line": {
                  "color": "rgb(17,17,17)"
                 }
                },
                "header": {
                 "fill": {
                  "color": "#2a3f5f"
                 },
                 "line": {
                  "color": "rgb(17,17,17)"
                 }
                },
                "type": "table"
               }
              ]
             },
             "layout": {
              "annotationdefaults": {
               "arrowcolor": "#f2f5fa",
               "arrowhead": 0,
               "arrowwidth": 1
              },
              "autotypenumbers": "strict",
              "coloraxis": {
               "colorbar": {
                "outlinewidth": 0,
                "ticks": ""
               }
              },
              "colorscale": {
               "diverging": [
                [
                 0,
                 "#8e0152"
                ],
                [
                 0.1,
                 "#c51b7d"
                ],
                [
                 0.2,
                 "#de77ae"
                ],
                [
                 0.3,
                 "#f1b6da"
                ],
                [
                 0.4,
                 "#fde0ef"
                ],
                [
                 0.5,
                 "#f7f7f7"
                ],
                [
                 0.6,
                 "#e6f5d0"
                ],
                [
                 0.7,
                 "#b8e186"
                ],
                [
                 0.8,
                 "#7fbc41"
                ],
                [
                 0.9,
                 "#4d9221"
                ],
                [
                 1,
                 "#276419"
                ]
               ],
               "sequential": [
                [
                 0,
                 "#0d0887"
                ],
                [
                 0.1111111111111111,
                 "#46039f"
                ],
                [
                 0.2222222222222222,
                 "#7201a8"
                ],
                [
                 0.3333333333333333,
                 "#9c179e"
                ],
                [
                 0.4444444444444444,
                 "#bd3786"
                ],
                [
                 0.5555555555555556,
                 "#d8576b"
                ],
                [
                 0.6666666666666666,
                 "#ed7953"
                ],
                [
                 0.7777777777777778,
                 "#fb9f3a"
                ],
                [
                 0.8888888888888888,
                 "#fdca26"
                ],
                [
                 1,
                 "#f0f921"
                ]
               ],
               "sequentialminus": [
                [
                 0,
                 "#0d0887"
                ],
                [
                 0.1111111111111111,
                 "#46039f"
                ],
                [
                 0.2222222222222222,
                 "#7201a8"
                ],
                [
                 0.3333333333333333,
                 "#9c179e"
                ],
                [
                 0.4444444444444444,
                 "#bd3786"
                ],
                [
                 0.5555555555555556,
                 "#d8576b"
                ],
                [
                 0.6666666666666666,
                 "#ed7953"
                ],
                [
                 0.7777777777777778,
                 "#fb9f3a"
                ],
                [
                 0.8888888888888888,
                 "#fdca26"
                ],
                [
                 1,
                 "#f0f921"
                ]
               ]
              },
              "colorway": [
               "#636efa",
               "#EF553B",
               "#00cc96",
               "#ab63fa",
               "#FFA15A",
               "#19d3f3",
               "#FF6692",
               "#B6E880",
               "#FF97FF",
               "#FECB52"
              ],
              "font": {
               "color": "#f2f5fa"
              },
              "geo": {
               "bgcolor": "rgb(17,17,17)",
               "lakecolor": "rgb(17,17,17)",
               "landcolor": "rgb(17,17,17)",
               "showlakes": true,
               "showland": true,
               "subunitcolor": "#506784"
              },
              "hoverlabel": {
               "align": "left"
              },
              "hovermode": "closest",
              "mapbox": {
               "style": "dark"
              },
              "paper_bgcolor": "rgb(17,17,17)",
              "plot_bgcolor": "rgb(17,17,17)",
              "polar": {
               "angularaxis": {
                "gridcolor": "#506784",
                "linecolor": "#506784",
                "ticks": ""
               },
               "bgcolor": "rgb(17,17,17)",
               "radialaxis": {
                "gridcolor": "#506784",
                "linecolor": "#506784",
                "ticks": ""
               }
              },
              "scene": {
               "xaxis": {
                "backgroundcolor": "rgb(17,17,17)",
                "gridcolor": "#506784",
                "gridwidth": 2,
                "linecolor": "#506784",
                "showbackground": true,
                "ticks": "",
                "zerolinecolor": "#C8D4E3"
               },
               "yaxis": {
                "backgroundcolor": "rgb(17,17,17)",
                "gridcolor": "#506784",
                "gridwidth": 2,
                "linecolor": "#506784",
                "showbackground": true,
                "ticks": "",
                "zerolinecolor": "#C8D4E3"
               },
               "zaxis": {
                "backgroundcolor": "rgb(17,17,17)",
                "gridcolor": "#506784",
                "gridwidth": 2,
                "linecolor": "#506784",
                "showbackground": true,
                "ticks": "",
                "zerolinecolor": "#C8D4E3"
               }
              },
              "shapedefaults": {
               "line": {
                "color": "#f2f5fa"
               }
              },
              "sliderdefaults": {
               "bgcolor": "#C8D4E3",
               "bordercolor": "rgb(17,17,17)",
               "borderwidth": 1,
               "tickwidth": 0
              },
              "ternary": {
               "aaxis": {
                "gridcolor": "#506784",
                "linecolor": "#506784",
                "ticks": ""
               },
               "baxis": {
                "gridcolor": "#506784",
                "linecolor": "#506784",
                "ticks": ""
               },
               "bgcolor": "rgb(17,17,17)",
               "caxis": {
                "gridcolor": "#506784",
                "linecolor": "#506784",
                "ticks": ""
               }
              },
              "title": {
               "x": 0.05
              },
              "updatemenudefaults": {
               "bgcolor": "#506784",
               "borderwidth": 0
              },
              "xaxis": {
               "automargin": true,
               "gridcolor": "#283442",
               "linecolor": "#506784",
               "ticks": "",
               "title": {
                "standoff": 15
               },
               "zerolinecolor": "#283442",
               "zerolinewidth": 2
              },
              "yaxis": {
               "automargin": true,
               "gridcolor": "#283442",
               "linecolor": "#506784",
               "ticks": "",
               "title": {
                "standoff": 15
               },
               "zerolinecolor": "#283442",
               "zerolinewidth": 2
              }
             }
            },
            "title": {
             "text": "EUR USD FxForward"
            },
            "width": 1000
           }
          },
          "text/html": "<div>                            <div id=\"5200d6ed-cac5-4ae8-adfe-1b21a147e1bf\" class=\"plotly-graph-div\" style=\"height:600px; width:1000px;\"></div>            <script type=\"text/javascript\">                require([\"plotly\"], function(Plotly) {                    window.PLOTLYENV=window.PLOTLYENV || {};                                    if (document.getElementById(\"5200d6ed-cac5-4ae8-adfe-1b21a147e1bf\")) {                    Plotly.newPlot(                        \"5200d6ed-cac5-4ae8-adfe-1b21a147e1bf\",                        [{\"z\":[[1.0866182,1.105233,1.1234674340659339,1.141786,1.1596708657534243,1.177779521857924,1.1934710817438696],[1.0867,1.105287663043479,1.1235148681318678,1.1418351342465751,1.15972,1.177829,1.1936],[1.086829,1.105342326086957,1.1235623021978018,1.1418842684931503,1.1597694781420766,1.1779579182561313,1.1936475274725276],[1.087002,1.1056703043478269,1.1238469065934062,1.1421790739726023,1.1600663469945358,1.1781298092643058,1.1939326923076923],[1.087314,1.1060529456521748,1.1241789450549449,1.1425230136986297,1.1604126939890713,1.1784306185286106,1.1942653846153843],[1.087613,1.1064355869565226,1.1245109835164833,1.1428669534246572,1.160759040983607,1.178731427792916,1.1945980769230768],[1.088057,1.1069275543478267,1.1249378901098899,1.1433091616438353,1.1612043442622955,1.179161155313352,1.1950258241758243],[1.089815,1.1087314347826094,1.1264557802197799,1.144881457534246,1.1627876448087435,1.1804503378746598,1.196641758241758],[1.091365,1.1103121111111096,1.127878802197802,1.1463554849315063,1.1642719890710385,1.1819114114441422,1.1979725274725275],[1.092587,1.1117152222222209,1.129206956043956,1.147731243835616,1.1657068551912573,1.1830716757493192,1.1993032967032966],[1.094073,1.1134189999999984,1.130724846153846,1.1493035397260267,1.1672901557377051,1.1843178855585836,1.200966758241758],[1.095642,1.114772,1.1321061857923493,1.150728432876712,1.1687250218579237,1.1856070681198916,1.20225],[1.097047,1.1163058901098895,1.1339145027322404,1.1522515945205476,1.170407278688525,1.1869821961852867,1.2037233516483516],[1.098572,1.1177918461538454,1.1354037049180326,1.1537747561643832,1.1717431885245904,1.188228405994551,1.2051016483516483],[1.10036,1.1191810989011006,1.1369992786885244,1.1552487835616434,1.173277010928962,1.1895605613079023,1.206575],[1.10184,1.1206411648351666,1.1387544098360654,1.1568702136986295,1.17486031147541,1.190892716621254,1.2080483516483516],[1.103418,1.1221012307692326,1.1402436120218575,1.1582459726027392,1.1762951775956287,1.1921818991825617,1.2095692307692305],[1.105233,1.1235148681318678,1.1418842684931503,1.1597694781420766,1.177829,1.1936,1.2109472527472525],[1.110262,1.127878802197802,1.1464046191780817,1.164321467213115,1.1819114114441422,1.1979725274725275,1.2152945054945052],[1.114772,1.1321061857923493,1.1507775671232874,1.1687745000000003,1.1856070681198916,1.2021074175824176,1.2195],[1.119134,1.1369992786885244,1.1552979178082188,1.1733264890710386,1.1895605613079023,1.206575,1.2238472527472524],[1.12342,1.1418842684931503,1.1598189562841532,1.1779579182561313,1.1936,1.2109,1.2281939890710383],[1.141786,1.1598189562841532,1.1779579182561313,1.1936,1.2109,1.2281,1.2453898630136984],[1.15972,1.1779579182561313,1.1936,1.2109,1.2281,1.2453,1.2617],[1.177829,1.1936,1.2109472527472525,1.228146994535519,1.2453,1.2617,1.2617],[1.1936,1.2109472527472525,1.2281939890710383,1.2453449315068494,1.2617,1.2617,1.2617],[1.2109,1.2281939890710383,1.2453898630136984,1.2617,1.2617,1.2617,1.2617],[1.2281,1.2453898630136984,1.2617,1.2617,1.2617,1.2617,1.2617],[1.2453,1.2617,1.2617,1.2617,1.2617,1.2617,1.2617],[1.2617,1.2617,1.2617,1.2617,1.2617,1.2617,1.2617]],\"type\":\"surface\"}],                        {\"template\":{\"data\":{\"barpolar\":[{\"marker\":{\"line\":{\"color\":\"rgb(17,17,17)\",\"width\":0.5},\"pattern\":{\"fillmode\":\"overlay\",\"size\":10,\"solidity\":0.2}},\"type\":\"barpolar\"}],\"bar\":[{\"error_x\":{\"color\":\"#f2f5fa\"},\"error_y\":{\"color\":\"#f2f5fa\"},\"marker\":{\"line\":{\"color\":\"rgb(17,17,17)\",\"width\":0.5},\"pattern\":{\"fillmode\":\"overlay\",\"size\":10,\"solidity\":0.2}},\"type\":\"bar\"}],\"carpet\":[{\"aaxis\":{\"endlinecolor\":\"#A2B1C6\",\"gridcolor\":\"#506784\",\"linecolor\":\"#506784\",\"minorgridcolor\":\"#506784\",\"startlinecolor\":\"#A2B1C6\"},\"baxis\":{\"endlinecolor\":\"#A2B1C6\",\"gridcolor\":\"#506784\",\"linecolor\":\"#506784\",\"minorgridcolor\":\"#506784\",\"startlinecolor\":\"#A2B1C6\"},\"type\":\"carpet\"}],\"choropleth\":[{\"colorbar\":{\"outlinewidth\":0,\"ticks\":\"\"},\"type\":\"choropleth\"}],\"contourcarpet\":[{\"colorbar\":{\"outlinewidth\":0,\"ticks\":\"\"},\"type\":\"contourcarpet\"}],\"contour\":[{\"colorbar\":{\"outlinewidth\":0,\"ticks\":\"\"},\"colorscale\":[[0.0,\"#0d0887\"],[0.1111111111111111,\"#46039f\"],[0.2222222222222222,\"#7201a8\"],[0.3333333333333333,\"#9c179e\"],[0.4444444444444444,\"#bd3786\"],[0.5555555555555556,\"#d8576b\"],[0.6666666666666666,\"#ed7953\"],[0.7777777777777778,\"#fb9f3a\"],[0.8888888888888888,\"#fdca26\"],[1.0,\"#f0f921\"]],\"type\":\"contour\"}],\"heatmapgl\":[{\"colorbar\":{\"outlinewidth\":0,\"ticks\":\"\"},\"colorscale\":[[0.0,\"#0d0887\"],[0.1111111111111111,\"#46039f\"],[0.2222222222222222,\"#7201a8\"],[0.3333333333333333,\"#9c179e\"],[0.4444444444444444,\"#bd3786\"],[0.5555555555555556,\"#d8576b\"],[0.6666666666666666,\"#ed7953\"],[0.7777777777777778,\"#fb9f3a\"],[0.8888888888888888,\"#fdca26\"],[1.0,\"#f0f921\"]],\"type\":\"heatmapgl\"}],\"heatmap\":[{\"colorbar\":{\"outlinewidth\":0,\"ticks\":\"\"},\"colorscale\":[[0.0,\"#0d0887\"],[0.1111111111111111,\"#46039f\"],[0.2222222222222222,\"#7201a8\"],[0.3333333333333333,\"#9c179e\"],[0.4444444444444444,\"#bd3786\"],[0.5555555555555556,\"#d8576b\"],[0.6666666666666666,\"#ed7953\"],[0.7777777777777778,\"#fb9f3a\"],[0.8888888888888888,\"#fdca26\"],[1.0,\"#f0f921\"]],\"type\":\"heatmap\"}],\"histogram2dcontour\":[{\"colorbar\":{\"outlinewidth\":0,\"ticks\":\"\"},\"colorscale\":[[0.0,\"#0d0887\"],[0.1111111111111111,\"#46039f\"],[0.2222222222222222,\"#7201a8\"],[0.3333333333333333,\"#9c179e\"],[0.4444444444444444,\"#bd3786\"],[0.5555555555555556,\"#d8576b\"],[0.6666666666666666,\"#ed7953\"],[0.7777777777777778,\"#fb9f3a\"],[0.8888888888888888,\"#fdca26\"],[1.0,\"#f0f921\"]],\"type\":\"histogram2dcontour\"}],\"histogram2d\":[{\"colorbar\":{\"outlinewidth\":0,\"ticks\":\"\"},\"colorscale\":[[0.0,\"#0d0887\"],[0.1111111111111111,\"#46039f\"],[0.2222222222222222,\"#7201a8\"],[0.3333333333333333,\"#9c179e\"],[0.4444444444444444,\"#bd3786\"],[0.5555555555555556,\"#d8576b\"],[0.6666666666666666,\"#ed7953\"],[0.7777777777777778,\"#fb9f3a\"],[0.8888888888888888,\"#fdca26\"],[1.0,\"#f0f921\"]],\"type\":\"histogram2d\"}],\"histogram\":[{\"marker\":{\"pattern\":{\"fillmode\":\"overlay\",\"size\":10,\"solidity\":0.2}},\"type\":\"histogram\"}],\"mesh3d\":[{\"colorbar\":{\"outlinewidth\":0,\"ticks\":\"\"},\"type\":\"mesh3d\"}],\"parcoords\":[{\"line\":{\"colorbar\":{\"outlinewidth\":0,\"ticks\":\"\"}},\"type\":\"parcoords\"}],\"pie\":[{\"automargin\":true,\"type\":\"pie\"}],\"scatter3d\":[{\"line\":{\"colorbar\":{\"outlinewidth\":0,\"ticks\":\"\"}},\"marker\":{\"colorbar\":{\"outlinewidth\":0,\"ticks\":\"\"}},\"type\":\"scatter3d\"}],\"scattercarpet\":[{\"marker\":{\"colorbar\":{\"outlinewidth\":0,\"ticks\":\"\"}},\"type\":\"scattercarpet\"}],\"scattergeo\":[{\"marker\":{\"colorbar\":{\"outlinewidth\":0,\"ticks\":\"\"}},\"type\":\"scattergeo\"}],\"scattergl\":[{\"marker\":{\"line\":{\"color\":\"#283442\"}},\"type\":\"scattergl\"}],\"scattermapbox\":[{\"marker\":{\"colorbar\":{\"outlinewidth\":0,\"ticks\":\"\"}},\"type\":\"scattermapbox\"}],\"scatterpolargl\":[{\"marker\":{\"colorbar\":{\"outlinewidth\":0,\"ticks\":\"\"}},\"type\":\"scatterpolargl\"}],\"scatterpolar\":[{\"marker\":{\"colorbar\":{\"outlinewidth\":0,\"ticks\":\"\"}},\"type\":\"scatterpolar\"}],\"scatter\":[{\"marker\":{\"line\":{\"color\":\"#283442\"}},\"type\":\"scatter\"}],\"scatterternary\":[{\"marker\":{\"colorbar\":{\"outlinewidth\":0,\"ticks\":\"\"}},\"type\":\"scatterternary\"}],\"surface\":[{\"colorbar\":{\"outlinewidth\":0,\"ticks\":\"\"},\"colorscale\":[[0.0,\"#0d0887\"],[0.1111111111111111,\"#46039f\"],[0.2222222222222222,\"#7201a8\"],[0.3333333333333333,\"#9c179e\"],[0.4444444444444444,\"#bd3786\"],[0.5555555555555556,\"#d8576b\"],[0.6666666666666666,\"#ed7953\"],[0.7777777777777778,\"#fb9f3a\"],[0.8888888888888888,\"#fdca26\"],[1.0,\"#f0f921\"]],\"type\":\"surface\"}],\"table\":[{\"cells\":{\"fill\":{\"color\":\"#506784\"},\"line\":{\"color\":\"rgb(17,17,17)\"}},\"header\":{\"fill\":{\"color\":\"#2a3f5f\"},\"line\":{\"color\":\"rgb(17,17,17)\"}},\"type\":\"table\"}]},\"layout\":{\"annotationdefaults\":{\"arrowcolor\":\"#f2f5fa\",\"arrowhead\":0,\"arrowwidth\":1},\"autotypenumbers\":\"strict\",\"coloraxis\":{\"colorbar\":{\"outlinewidth\":0,\"ticks\":\"\"}},\"colorscale\":{\"diverging\":[[0,\"#8e0152\"],[0.1,\"#c51b7d\"],[0.2,\"#de77ae\"],[0.3,\"#f1b6da\"],[0.4,\"#fde0ef\"],[0.5,\"#f7f7f7\"],[0.6,\"#e6f5d0\"],[0.7,\"#b8e186\"],[0.8,\"#7fbc41\"],[0.9,\"#4d9221\"],[1,\"#276419\"]],\"sequential\":[[0.0,\"#0d0887\"],[0.1111111111111111,\"#46039f\"],[0.2222222222222222,\"#7201a8\"],[0.3333333333333333,\"#9c179e\"],[0.4444444444444444,\"#bd3786\"],[0.5555555555555556,\"#d8576b\"],[0.6666666666666666,\"#ed7953\"],[0.7777777777777778,\"#fb9f3a\"],[0.8888888888888888,\"#fdca26\"],[1.0,\"#f0f921\"]],\"sequentialminus\":[[0.0,\"#0d0887\"],[0.1111111111111111,\"#46039f\"],[0.2222222222222222,\"#7201a8\"],[0.3333333333333333,\"#9c179e\"],[0.4444444444444444,\"#bd3786\"],[0.5555555555555556,\"#d8576b\"],[0.6666666666666666,\"#ed7953\"],[0.7777777777777778,\"#fb9f3a\"],[0.8888888888888888,\"#fdca26\"],[1.0,\"#f0f921\"]]},\"colorway\":[\"#636efa\",\"#EF553B\",\"#00cc96\",\"#ab63fa\",\"#FFA15A\",\"#19d3f3\",\"#FF6692\",\"#B6E880\",\"#FF97FF\",\"#FECB52\"],\"font\":{\"color\":\"#f2f5fa\"},\"geo\":{\"bgcolor\":\"rgb(17,17,17)\",\"lakecolor\":\"rgb(17,17,17)\",\"landcolor\":\"rgb(17,17,17)\",\"showlakes\":true,\"showland\":true,\"subunitcolor\":\"#506784\"},\"hoverlabel\":{\"align\":\"left\"},\"hovermode\":\"closest\",\"mapbox\":{\"style\":\"dark\"},\"paper_bgcolor\":\"rgb(17,17,17)\",\"plot_bgcolor\":\"rgb(17,17,17)\",\"polar\":{\"angularaxis\":{\"gridcolor\":\"#506784\",\"linecolor\":\"#506784\",\"ticks\":\"\"},\"bgcolor\":\"rgb(17,17,17)\",\"radialaxis\":{\"gridcolor\":\"#506784\",\"linecolor\":\"#506784\",\"ticks\":\"\"}},\"scene\":{\"xaxis\":{\"backgroundcolor\":\"rgb(17,17,17)\",\"gridcolor\":\"#506784\",\"gridwidth\":2,\"linecolor\":\"#506784\",\"showbackground\":true,\"ticks\":\"\",\"zerolinecolor\":\"#C8D4E3\"},\"yaxis\":{\"backgroundcolor\":\"rgb(17,17,17)\",\"gridcolor\":\"#506784\",\"gridwidth\":2,\"linecolor\":\"#506784\",\"showbackground\":true,\"ticks\":\"\",\"zerolinecolor\":\"#C8D4E3\"},\"zaxis\":{\"backgroundcolor\":\"rgb(17,17,17)\",\"gridcolor\":\"#506784\",\"gridwidth\":2,\"linecolor\":\"#506784\",\"showbackground\":true,\"ticks\":\"\",\"zerolinecolor\":\"#C8D4E3\"}},\"shapedefaults\":{\"line\":{\"color\":\"#f2f5fa\"}},\"sliderdefaults\":{\"bgcolor\":\"#C8D4E3\",\"bordercolor\":\"rgb(17,17,17)\",\"borderwidth\":1,\"tickwidth\":0},\"ternary\":{\"aaxis\":{\"gridcolor\":\"#506784\",\"linecolor\":\"#506784\",\"ticks\":\"\"},\"baxis\":{\"gridcolor\":\"#506784\",\"linecolor\":\"#506784\",\"ticks\":\"\"},\"bgcolor\":\"rgb(17,17,17)\",\"caxis\":{\"gridcolor\":\"#506784\",\"linecolor\":\"#506784\",\"ticks\":\"\"}},\"title\":{\"x\":0.05},\"updatemenudefaults\":{\"bgcolor\":\"#506784\",\"borderwidth\":0},\"xaxis\":{\"automargin\":true,\"gridcolor\":\"#283442\",\"linecolor\":\"#506784\",\"ticks\":\"\",\"title\":{\"standoff\":15},\"zerolinecolor\":\"#283442\",\"zerolinewidth\":2},\"yaxis\":{\"automargin\":true,\"gridcolor\":\"#283442\",\"linecolor\":\"#506784\",\"ticks\":\"\",\"title\":{\"standoff\":15},\"zerolinecolor\":\"#283442\",\"zerolinewidth\":2}}},\"margin\":{\"l\":5,\"r\":5,\"b\":5,\"t\":80},\"scene\":{\"yaxis\":{\"title\":{\"text\":\"y: tenor\"},\"ticktext\":[\"ON\",\"SPOT\",\"SN\",\"SW\",\"2W\",\"3W\",\"1M\",\"2M\",\"3M\",\"4M\",\"5M\",\"6M\",\"7M\",\"8M\",\"9M\",\"10M\",\"11M\",\"1Y\",\"15M\",\"18M\",\"21M\",\"2Y\",\"3Y\",\"4Y\",\"5Y\",\"6Y\",\"7Y\",\"8Y\",\"9Y\",\"10Y\"],\"tickvals\":[0,1,2,3,4,5,6,7,8,9,10,11,12,13,14,15,16,17,18,19,20,21,22,23,24,25,26,27,28,29]},\"xaxis\":{\"title\":{\"text\":\"x: startTenorInY\"}},\"zaxis\":{\"title\":{\"text\":\"z: outright.ask\"}}},\"title\":{\"text\":\"EUR USD FxForward\"},\"autosize\":false,\"width\":1000,\"height\":600},                        {\"responsive\": true}                    ).then(function(){\n                            \nvar gd = document.getElementById('5200d6ed-cac5-4ae8-adfe-1b21a147e1bf');\nvar x = new MutationObserver(function (mutations, observer) {{\n        var display = window.getComputedStyle(gd).display;\n        if (!display || display === 'none') {{\n            console.log([gd, 'removed!']);\n            Plotly.purge(gd);\n            observer.disconnect();\n        }}\n}});\n\n// Listen for the removal of the full notebook cells\nvar notebookContainer = gd.closest('#notebook-container');\nif (notebookContainer) {{\n    x.observe(notebookContainer, {childList: true});\n}}\n\n// Listen for the clearing of the current output cell\nvar outputEl = gd.closest('.output');\nif (outputEl) {{\n    x.observe(outputEl, {childList: true});\n}}\n\n                        })                };                });            </script>        </div>"
         },
         "metadata": {},
         "output_type": "display_data"
        },
        {
         "name": "stdout",
         "output_type": "stream",
         "text": "Updated on 2023-11-15 16:11.1700064710\n"
        }
       ]
      }
     },
     "2f44d387a536416f9889dbe5708eff75": {
      "model_module": "@jupyter-widgets/base",
      "model_module_version": "1.2.0",
      "model_name": "LayoutModel",
      "state": {}
     },
     "40bd428643e54d3b80ef845c31731ae6": {
      "model_module": "@jupyter-widgets/base",
      "model_module_version": "1.2.0",
      "model_name": "LayoutModel",
      "state": {}
     },
     "4259f7f2a7694cb4bd8f2a7fd746a4d5": {
      "model_module": "refinitiv-widgets",
      "model_module_version": "3.3.2",
      "model_name": "RefinitivSelectModel",
      "state": {
       "_is_opened": false,
       "_widget_selector": "[data-selector='4259f7f2a7694cb4bd8f2a7fd746a4d5']",
       "data": [
        {
         "items": [],
         "label": "swapPoint.bid",
         "value": "swapPoint.bid"
        },
        {
         "items": [],
         "label": "swapPoint.ask",
         "value": "swapPoint.ask"
        },
        {
         "items": [],
         "label": "swapPoint.mid",
         "value": "swapPoint.mid"
        },
        {
         "items": [],
         "label": "outright.bid",
         "value": "outright.bid"
        },
        {
         "items": [],
         "label": "outright.ask",
         "value": "outright.ask"
        },
        {
         "items": [],
         "label": "outright.mid",
         "value": "outright.mid"
        }
       ],
       "layout": "IPY_MODEL_f7c3e0d17a1c4a7589751f4392f1c931",
       "max_height": 0,
       "max_width": 0,
       "placeholder": "Data of interest (Swap Points or Outrights; Ask, Bid, or Mid?)",
       "tooltip": "",
       "value": "outright.ask",
       "width": 300
      }
     },
     "5472f887355e4298ba14c114ea8c027b": {
      "model_module": "@jupyter-widgets/base",
      "model_module_version": "1.2.0",
      "model_name": "LayoutModel",
      "state": {}
     },
     "564113763e464697ab721e934a5a807c": {
      "model_module": "refinitiv-widgets",
      "model_module_version": "3.3.2",
      "model_name": "RefinitivSelectModel",
      "state": {
       "_is_opened": false,
       "_widget_selector": "[data-selector='564113763e464697ab721e934a5a807c']",
       "data": [
        {
         "items": [],
         "label": "D",
         "value": "D"
        },
        {
         "items": [],
         "label": "W",
         "value": "W"
        },
        {
         "items": [],
         "label": "M",
         "value": "M"
        },
        {
         "items": [],
         "label": "Y",
         "value": "Y"
        }
       ],
       "layout": "IPY_MODEL_ac48f67dc5ac4e29814c6018fd25faad",
       "max_height": 0,
       "max_width": 0,
       "placeholder": "Start Tenor Interval",
       "tooltip": "",
       "value": "Y",
       "width": 300
      }
     },
     "72717f3edd44408a890e0c098920b211": {
      "model_module": "refinitiv-widgets",
      "model_module_version": "3.3.2",
      "model_name": "RefinitivTextFieldAutosuggestModel",
      "state": {
       "_detailed_value": {
        "id": "55846336858",
        "label": "EUR=",
        "p": {
         "PermID": "55846336858",
         "RIC": "EUR=",
         "entityTypeName": "Quote"
        },
        "s": "EUR=",
        "st": "RIC",
        "subtitle": "REFINITIV",
        "title": "Euro/US Dollar FX Spot Rate",
        "vc": "FX"
       },
       "_widget_selector": "[data-selector='72717f3edd44408a890e0c098920b211']",
       "filters": [
        "FX"
       ],
       "layout": "IPY_MODEL_a639daec3e01463e816cc8375f523ff5",
       "placeholder": "Currency FX Pair",
       "profile": "",
       "query": "eur",
       "tooltip": "",
       "value": "EUR="
      }
     },
     "8a3f351f28b84bb69130bb0d79771efb": {
      "model_module": "refinitiv-widgets",
      "model_module_version": "3.3.2",
      "model_name": "RefinitivButtonModel",
      "state": {
       "_widget_selector": "[data-selector='8a3f351f28b84bb69130bb0d79771efb']",
       "background": "",
       "css": "",
       "height": 0,
       "hover_icon": "",
       "icon": "",
       "layout": "IPY_MODEL_2f44d387a536416f9889dbe5708eff75",
       "textpos": "",
       "tooltip": "",
       "value": "Create/Update Surface",
       "width": 0
      }
     },
     "9f789a2a6bf54026a7dff89d836cc66d": {
      "model_module": "@jupyter-widgets/output",
      "model_module_version": "1.0.0",
      "model_name": "OutputModel",
      "state": {
       "layout": "IPY_MODEL_b83593957d1b41888a997b1322bc7e78"
      }
     },
     "a54e375cd3de44138b2e268d82815446": {
      "model_module": "@jupyter-widgets/base",
      "model_module_version": "1.2.0",
      "model_name": "LayoutModel",
      "state": {}
     },
     "a639daec3e01463e816cc8375f523ff5": {
      "model_module": "@jupyter-widgets/base",
      "model_module_version": "1.2.0",
      "model_name": "LayoutModel",
      "state": {}
     },
     "ac48f67dc5ac4e29814c6018fd25faad": {
      "model_module": "@jupyter-widgets/base",
      "model_module_version": "1.2.0",
      "model_name": "LayoutModel",
      "state": {}
     },
     "b83593957d1b41888a997b1322bc7e78": {
      "model_module": "@jupyter-widgets/base",
      "model_module_version": "1.2.0",
      "model_name": "LayoutModel",
      "state": {}
     },
     "bd7e9e6965454235afcb419996713816": {
      "model_module": "@jupyter-widgets/output",
      "model_module_version": "1.0.0",
      "model_name": "OutputModel",
      "state": {
       "layout": "IPY_MODEL_5472f887355e4298ba14c114ea8c027b"
      }
     },
     "bf0413293ae747a485a920e1a356327f": {
      "model_module": "@jupyter-widgets/base",
      "model_module_version": "1.2.0",
      "model_name": "LayoutModel",
      "state": {}
     },
     "cf923fe2543c49da979ea4ae3d8b289b": {
      "model_module": "refinitiv-widgets",
      "model_module_version": "3.3.2",
      "model_name": "RefinitivSelectModel",
      "state": {
       "_is_opened": false,
       "_widget_selector": "[data-selector='cf923fe2543c49da979ea4ae3d8b289b']",
       "data": [
        {
         "items": [],
         "label": "2",
         "value": "2"
        },
        {
         "items": [],
         "label": "3",
         "value": "3"
        },
        {
         "items": [],
         "label": "4",
         "value": "4"
        },
        {
         "items": [],
         "label": "5",
         "value": "5"
        },
        {
         "items": [],
         "label": "6",
         "value": "6"
        },
        {
         "items": [],
         "label": "7",
         "value": "7"
        },
        {
         "items": [],
         "label": "8",
         "value": "8"
        },
        {
         "items": [],
         "label": "9",
         "value": "9"
        },
        {
         "items": [],
         "label": "10",
         "value": "10"
        },
        {
         "items": [],
         "label": "11",
         "value": "11"
        },
        {
         "items": [],
         "label": "12",
         "value": "12"
        },
        {
         "items": [],
         "label": "13",
         "value": "13"
        },
        {
         "items": [],
         "label": "14",
         "value": "14"
        },
        {
         "items": [],
         "label": "15",
         "value": "15"
        },
        {
         "items": [],
         "label": "16",
         "value": "16"
        },
        {
         "items": [],
         "label": "17",
         "value": "17"
        },
        {
         "items": [],
         "label": "18",
         "value": "18"
        },
        {
         "items": [],
         "label": "19",
         "value": "19"
        },
        {
         "items": [],
         "label": "20",
         "value": "20"
        },
        {
         "items": [],
         "label": "21",
         "value": "21"
        },
        {
         "items": [],
         "label": "22",
         "value": "22"
        },
        {
         "items": [],
         "label": "23",
         "value": "23"
        },
        {
         "items": [],
         "label": "24",
         "value": "24"
        },
        {
         "items": [],
         "label": "25",
         "value": "25"
        },
        {
         "items": [],
         "label": "26",
         "value": "26"
        },
        {
         "items": [],
         "label": "27",
         "value": "27"
        },
        {
         "items": [],
         "label": "28",
         "value": "28"
        },
        {
         "items": [],
         "label": "29",
         "value": "29"
        },
        {
         "items": [],
         "label": "30",
         "value": "30"
        }
       ],
       "layout": "IPY_MODEL_bf0413293ae747a485a920e1a356327f",
       "max_height": 0,
       "max_width": 0,
       "placeholder": "Range",
       "tooltip": "",
       "value": "7",
       "width": 300
      }
     },
     "d91c2798ccda491eb3310f1fa63421d3": {
      "model_module": "@jupyter-widgets/base",
      "model_module_version": "1.2.0",
      "model_name": "LayoutModel",
      "state": {}
     },
     "da2adbe12cd04f26908752a394be2f21": {
      "model_module": "@jupyter-widgets/output",
      "model_module_version": "1.0.0",
      "model_name": "OutputModel",
      "state": {
       "layout": "IPY_MODEL_a54e375cd3de44138b2e268d82815446"
      }
     },
     "e1954ca5f9f147f68cbb0a17e43b7e07": {
      "model_module": "@jupyter-widgets/output",
      "model_module_version": "1.0.0",
      "model_name": "OutputModel",
      "state": {
       "layout": "IPY_MODEL_40bd428643e54d3b80ef845c31731ae6"
      }
     },
     "e5be1d00a40e446fa4e87c9614e5bafa": {
      "model_module": "refinitiv-widgets",
      "model_module_version": "3.3.2",
      "model_name": "RefinitivMultiSelectModel",
      "state": {
       "_is_opened": false,
       "_query": "",
       "_widget_selector": "[data-selector='e5be1d00a40e446fa4e87c9614e5bafa']",
       "data": [
        {
         "items": [],
         "label": "ON",
         "value": "ON"
        },
        {
         "items": [],
         "label": "SPOT",
         "value": "SPOT"
        },
        {
         "items": [],
         "label": "SN",
         "value": "SN"
        },
        {
         "items": [],
         "label": "SW",
         "value": "SW"
        },
        {
         "items": [],
         "label": "2W",
         "value": "2W"
        },
        {
         "items": [],
         "label": "3W",
         "value": "3W"
        },
        {
         "items": [],
         "label": "1M",
         "value": "1M"
        },
        {
         "items": [],
         "label": "2M",
         "value": "2M"
        },
        {
         "items": [],
         "label": "3M",
         "value": "3M"
        },
        {
         "items": [],
         "label": "4M",
         "value": "4M"
        },
        {
         "items": [],
         "label": "5M",
         "value": "5M"
        },
        {
         "items": [],
         "label": "6M",
         "value": "6M"
        },
        {
         "items": [],
         "label": "7M",
         "value": "7M"
        },
        {
         "items": [],
         "label": "8M",
         "value": "8M"
        },
        {
         "items": [],
         "label": "9M",
         "value": "9M"
        },
        {
         "items": [],
         "label": "10M",
         "value": "10M"
        },
        {
         "items": [],
         "label": "11M",
         "value": "11M"
        },
        {
         "items": [],
         "label": "1Y",
         "value": "1Y"
        },
        {
         "items": [],
         "label": "15M",
         "value": "15M"
        },
        {
         "items": [],
         "label": "18M",
         "value": "18M"
        },
        {
         "items": [],
         "label": "21M",
         "value": "21M"
        },
        {
         "items": [],
         "label": "2Y",
         "value": "2Y"
        },
        {
         "items": [],
         "label": "3Y",
         "value": "3Y"
        },
        {
         "items": [],
         "label": "4Y",
         "value": "4Y"
        },
        {
         "items": [],
         "label": "5Y",
         "value": "5Y"
        },
        {
         "items": [],
         "label": "6Y",
         "value": "6Y"
        },
        {
         "items": [],
         "label": "7Y",
         "value": "7Y"
        },
        {
         "items": [],
         "label": "8Y",
         "value": "8Y"
        },
        {
         "items": [],
         "label": "9Y",
         "value": "9Y"
        },
        {
         "items": [],
         "label": "10Y",
         "value": "10Y"
        }
       ],
       "layout": "IPY_MODEL_d91c2798ccda491eb3310f1fa63421d3",
       "max_height": 0,
       "max_width": 0,
       "no_relation": true,
       "placeholder": "Tenor(s)",
       "value": [
        "10M",
        "10Y",
        "11M",
        "15M",
        "18M",
        "1M",
        "1Y",
        "21M",
        "2M",
        "2W",
        "2Y",
        "3M",
        "3W",
        "3Y",
        "4M",
        "4Y",
        "5M",
        "5Y",
        "6M",
        "6Y",
        "7M",
        "7Y",
        "8M",
        "8Y",
        "9M",
        "9Y",
        "ON",
        "SN",
        "SPOT",
        "SW"
       ],
       "width": 0
      }
     },
     "f7c3e0d17a1c4a7589751f4392f1c931": {
      "model_module": "@jupyter-widgets/base",
      "model_module_version": "1.2.0",
      "model_name": "LayoutModel",
      "state": {}
     }
    },
    "version_major": 2,
    "version_minor": 0
   }
  }
 },
 "nbformat": 4,
 "nbformat_minor": 4
}
